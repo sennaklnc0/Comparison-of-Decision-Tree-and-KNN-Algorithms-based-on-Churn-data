{
 "cells": [
  {
   "cell_type": "code",
   "execution_count": 5,
   "id": "776ff935-18b7-4715-ad9c-d31d86d61641",
   "metadata": {},
   "outputs": [],
   "source": [
    "import warnings\n",
    "import joblib\n",
    "import pydotplus\n",
    "import numpy as np\n",
    "import pandas as pd\n",
    "import seaborn as sns"
   ]
  },
  {
   "cell_type": "code",
   "execution_count": 6,
   "id": "bbe25adf-9bc4-4089-ac73-7a304543634f",
   "metadata": {},
   "outputs": [],
   "source": [
    "from sklearn.metrics import classification_report, roc_auc_score\n",
    "from sklearn.neighbors import KNeighborsClassifier\n",
    "from sklearn.preprocessing import StandardScaler\n",
    "from sklearn.model_selection import GridSearchCV, cross_validate\n",
    "from matplotlib import pyplot as plt\n",
    "from sklearn.tree import DecisionTreeClassifier, export_graphviz, export_text\n",
    "from sklearn.metrics import classification_report, roc_auc_score\n",
    "from sklearn.model_selection import train_test_split, GridSearchCV, cross_validate, validation_curve\n",
    "from skompiler import skompile\n",
    "from sklearn.preprocessing import MinMaxScaler, LabelEncoder, StandardScaler, RobustScaler"
   ]
  },
  {
   "cell_type": "code",
   "execution_count": 7,
   "id": "5399c7da-8015-421d-a1ec-91d4c1d1512d",
   "metadata": {},
   "outputs": [],
   "source": [
    "df = pd.read_csv(\"Downloads/churn.csv\")"
   ]
  },
  {
   "cell_type": "code",
   "execution_count": 8,
   "id": "0b245e9f-e97f-4031-b8a7-fa1c37ef2823",
   "metadata": {},
   "outputs": [
    {
     "data": {
      "text/html": [
       "<div>\n",
       "<style scoped>\n",
       "    .dataframe tbody tr th:only-of-type {\n",
       "        vertical-align: middle;\n",
       "    }\n",
       "\n",
       "    .dataframe tbody tr th {\n",
       "        vertical-align: top;\n",
       "    }\n",
       "\n",
       "    .dataframe thead th {\n",
       "        text-align: right;\n",
       "    }\n",
       "</style>\n",
       "<table border=\"1\" class=\"dataframe\">\n",
       "  <thead>\n",
       "    <tr style=\"text-align: right;\">\n",
       "      <th></th>\n",
       "      <th>churn</th>\n",
       "      <th>accountlength</th>\n",
       "      <th>internationalplan</th>\n",
       "      <th>voicemailplan</th>\n",
       "      <th>numbervmailmessages</th>\n",
       "      <th>totaldayminutes</th>\n",
       "      <th>totaldaycalls</th>\n",
       "      <th>totaldaycharge</th>\n",
       "      <th>totaleveminutes</th>\n",
       "      <th>totalevecalls</th>\n",
       "      <th>totalevecharge</th>\n",
       "      <th>totalnightminutes</th>\n",
       "      <th>totalnightcalls</th>\n",
       "      <th>totalnightcharge</th>\n",
       "      <th>totalintlminutes</th>\n",
       "      <th>totalintlcalls</th>\n",
       "      <th>totalintlcharge</th>\n",
       "      <th>numbercustomerservicecalls</th>\n",
       "    </tr>\n",
       "  </thead>\n",
       "  <tbody>\n",
       "    <tr>\n",
       "      <th>0</th>\n",
       "      <td>No</td>\n",
       "      <td>128</td>\n",
       "      <td>no</td>\n",
       "      <td>yes</td>\n",
       "      <td>25</td>\n",
       "      <td>265.1</td>\n",
       "      <td>110</td>\n",
       "      <td>45.07</td>\n",
       "      <td>197.4</td>\n",
       "      <td>99</td>\n",
       "      <td>16.78</td>\n",
       "      <td>244.7</td>\n",
       "      <td>91</td>\n",
       "      <td>11.01</td>\n",
       "      <td>10.0</td>\n",
       "      <td>3</td>\n",
       "      <td>2.70</td>\n",
       "      <td>1</td>\n",
       "    </tr>\n",
       "    <tr>\n",
       "      <th>1</th>\n",
       "      <td>No</td>\n",
       "      <td>107</td>\n",
       "      <td>no</td>\n",
       "      <td>yes</td>\n",
       "      <td>26</td>\n",
       "      <td>161.6</td>\n",
       "      <td>123</td>\n",
       "      <td>27.47</td>\n",
       "      <td>195.5</td>\n",
       "      <td>103</td>\n",
       "      <td>16.62</td>\n",
       "      <td>254.4</td>\n",
       "      <td>103</td>\n",
       "      <td>11.45</td>\n",
       "      <td>13.7</td>\n",
       "      <td>3</td>\n",
       "      <td>3.70</td>\n",
       "      <td>1</td>\n",
       "    </tr>\n",
       "    <tr>\n",
       "      <th>2</th>\n",
       "      <td>No</td>\n",
       "      <td>137</td>\n",
       "      <td>no</td>\n",
       "      <td>no</td>\n",
       "      <td>0</td>\n",
       "      <td>243.4</td>\n",
       "      <td>114</td>\n",
       "      <td>41.38</td>\n",
       "      <td>121.2</td>\n",
       "      <td>110</td>\n",
       "      <td>10.30</td>\n",
       "      <td>162.6</td>\n",
       "      <td>104</td>\n",
       "      <td>7.32</td>\n",
       "      <td>12.2</td>\n",
       "      <td>5</td>\n",
       "      <td>3.29</td>\n",
       "      <td>0</td>\n",
       "    </tr>\n",
       "    <tr>\n",
       "      <th>3</th>\n",
       "      <td>No</td>\n",
       "      <td>84</td>\n",
       "      <td>yes</td>\n",
       "      <td>no</td>\n",
       "      <td>0</td>\n",
       "      <td>299.4</td>\n",
       "      <td>71</td>\n",
       "      <td>50.90</td>\n",
       "      <td>61.9</td>\n",
       "      <td>88</td>\n",
       "      <td>5.26</td>\n",
       "      <td>196.9</td>\n",
       "      <td>89</td>\n",
       "      <td>8.86</td>\n",
       "      <td>6.6</td>\n",
       "      <td>7</td>\n",
       "      <td>1.78</td>\n",
       "      <td>2</td>\n",
       "    </tr>\n",
       "    <tr>\n",
       "      <th>4</th>\n",
       "      <td>No</td>\n",
       "      <td>75</td>\n",
       "      <td>yes</td>\n",
       "      <td>no</td>\n",
       "      <td>0</td>\n",
       "      <td>166.7</td>\n",
       "      <td>113</td>\n",
       "      <td>28.34</td>\n",
       "      <td>148.3</td>\n",
       "      <td>122</td>\n",
       "      <td>12.61</td>\n",
       "      <td>186.9</td>\n",
       "      <td>121</td>\n",
       "      <td>8.41</td>\n",
       "      <td>10.1</td>\n",
       "      <td>3</td>\n",
       "      <td>2.73</td>\n",
       "      <td>3</td>\n",
       "    </tr>\n",
       "    <tr>\n",
       "      <th>...</th>\n",
       "      <td>...</td>\n",
       "      <td>...</td>\n",
       "      <td>...</td>\n",
       "      <td>...</td>\n",
       "      <td>...</td>\n",
       "      <td>...</td>\n",
       "      <td>...</td>\n",
       "      <td>...</td>\n",
       "      <td>...</td>\n",
       "      <td>...</td>\n",
       "      <td>...</td>\n",
       "      <td>...</td>\n",
       "      <td>...</td>\n",
       "      <td>...</td>\n",
       "      <td>...</td>\n",
       "      <td>...</td>\n",
       "      <td>...</td>\n",
       "      <td>...</td>\n",
       "    </tr>\n",
       "    <tr>\n",
       "      <th>4995</th>\n",
       "      <td>No</td>\n",
       "      <td>50</td>\n",
       "      <td>no</td>\n",
       "      <td>yes</td>\n",
       "      <td>40</td>\n",
       "      <td>235.7</td>\n",
       "      <td>127</td>\n",
       "      <td>40.07</td>\n",
       "      <td>223.0</td>\n",
       "      <td>126</td>\n",
       "      <td>18.96</td>\n",
       "      <td>297.5</td>\n",
       "      <td>116</td>\n",
       "      <td>13.39</td>\n",
       "      <td>9.9</td>\n",
       "      <td>5</td>\n",
       "      <td>2.67</td>\n",
       "      <td>2</td>\n",
       "    </tr>\n",
       "    <tr>\n",
       "      <th>4996</th>\n",
       "      <td>Yes</td>\n",
       "      <td>152</td>\n",
       "      <td>no</td>\n",
       "      <td>no</td>\n",
       "      <td>0</td>\n",
       "      <td>184.2</td>\n",
       "      <td>90</td>\n",
       "      <td>31.31</td>\n",
       "      <td>256.8</td>\n",
       "      <td>73</td>\n",
       "      <td>21.83</td>\n",
       "      <td>213.6</td>\n",
       "      <td>113</td>\n",
       "      <td>9.61</td>\n",
       "      <td>14.7</td>\n",
       "      <td>2</td>\n",
       "      <td>3.97</td>\n",
       "      <td>3</td>\n",
       "    </tr>\n",
       "    <tr>\n",
       "      <th>4997</th>\n",
       "      <td>No</td>\n",
       "      <td>61</td>\n",
       "      <td>no</td>\n",
       "      <td>no</td>\n",
       "      <td>0</td>\n",
       "      <td>140.6</td>\n",
       "      <td>89</td>\n",
       "      <td>23.90</td>\n",
       "      <td>172.8</td>\n",
       "      <td>128</td>\n",
       "      <td>14.69</td>\n",
       "      <td>212.4</td>\n",
       "      <td>97</td>\n",
       "      <td>9.56</td>\n",
       "      <td>13.6</td>\n",
       "      <td>4</td>\n",
       "      <td>3.67</td>\n",
       "      <td>1</td>\n",
       "    </tr>\n",
       "    <tr>\n",
       "      <th>4998</th>\n",
       "      <td>No</td>\n",
       "      <td>109</td>\n",
       "      <td>no</td>\n",
       "      <td>no</td>\n",
       "      <td>0</td>\n",
       "      <td>188.8</td>\n",
       "      <td>67</td>\n",
       "      <td>32.10</td>\n",
       "      <td>171.7</td>\n",
       "      <td>92</td>\n",
       "      <td>14.59</td>\n",
       "      <td>224.4</td>\n",
       "      <td>89</td>\n",
       "      <td>10.10</td>\n",
       "      <td>8.5</td>\n",
       "      <td>6</td>\n",
       "      <td>2.30</td>\n",
       "      <td>0</td>\n",
       "    </tr>\n",
       "    <tr>\n",
       "      <th>4999</th>\n",
       "      <td>No</td>\n",
       "      <td>86</td>\n",
       "      <td>no</td>\n",
       "      <td>yes</td>\n",
       "      <td>34</td>\n",
       "      <td>129.4</td>\n",
       "      <td>102</td>\n",
       "      <td>22.00</td>\n",
       "      <td>267.1</td>\n",
       "      <td>104</td>\n",
       "      <td>22.70</td>\n",
       "      <td>154.8</td>\n",
       "      <td>100</td>\n",
       "      <td>6.97</td>\n",
       "      <td>9.3</td>\n",
       "      <td>16</td>\n",
       "      <td>2.51</td>\n",
       "      <td>0</td>\n",
       "    </tr>\n",
       "  </tbody>\n",
       "</table>\n",
       "<p>5000 rows × 18 columns</p>\n",
       "</div>"
      ],
      "text/plain": [
       "     churn  accountlength internationalplan voicemailplan  \\\n",
       "0       No            128                no           yes   \n",
       "1       No            107                no           yes   \n",
       "2       No            137                no            no   \n",
       "3       No             84               yes            no   \n",
       "4       No             75               yes            no   \n",
       "...    ...            ...               ...           ...   \n",
       "4995    No             50                no           yes   \n",
       "4996   Yes            152                no            no   \n",
       "4997    No             61                no            no   \n",
       "4998    No            109                no            no   \n",
       "4999    No             86                no           yes   \n",
       "\n",
       "      numbervmailmessages  totaldayminutes  totaldaycalls  totaldaycharge  \\\n",
       "0                      25            265.1            110           45.07   \n",
       "1                      26            161.6            123           27.47   \n",
       "2                       0            243.4            114           41.38   \n",
       "3                       0            299.4             71           50.90   \n",
       "4                       0            166.7            113           28.34   \n",
       "...                   ...              ...            ...             ...   \n",
       "4995                   40            235.7            127           40.07   \n",
       "4996                    0            184.2             90           31.31   \n",
       "4997                    0            140.6             89           23.90   \n",
       "4998                    0            188.8             67           32.10   \n",
       "4999                   34            129.4            102           22.00   \n",
       "\n",
       "      totaleveminutes  totalevecalls  totalevecharge  totalnightminutes  \\\n",
       "0               197.4             99           16.78              244.7   \n",
       "1               195.5            103           16.62              254.4   \n",
       "2               121.2            110           10.30              162.6   \n",
       "3                61.9             88            5.26              196.9   \n",
       "4               148.3            122           12.61              186.9   \n",
       "...               ...            ...             ...                ...   \n",
       "4995            223.0            126           18.96              297.5   \n",
       "4996            256.8             73           21.83              213.6   \n",
       "4997            172.8            128           14.69              212.4   \n",
       "4998            171.7             92           14.59              224.4   \n",
       "4999            267.1            104           22.70              154.8   \n",
       "\n",
       "      totalnightcalls  totalnightcharge  totalintlminutes  totalintlcalls  \\\n",
       "0                  91             11.01              10.0               3   \n",
       "1                 103             11.45              13.7               3   \n",
       "2                 104              7.32              12.2               5   \n",
       "3                  89              8.86               6.6               7   \n",
       "4                 121              8.41              10.1               3   \n",
       "...               ...               ...               ...             ...   \n",
       "4995              116             13.39               9.9               5   \n",
       "4996              113              9.61              14.7               2   \n",
       "4997               97              9.56              13.6               4   \n",
       "4998               89             10.10               8.5               6   \n",
       "4999              100              6.97               9.3              16   \n",
       "\n",
       "      totalintlcharge  numbercustomerservicecalls  \n",
       "0                2.70                           1  \n",
       "1                3.70                           1  \n",
       "2                3.29                           0  \n",
       "3                1.78                           2  \n",
       "4                2.73                           3  \n",
       "...               ...                         ...  \n",
       "4995             2.67                           2  \n",
       "4996             3.97                           3  \n",
       "4997             3.67                           1  \n",
       "4998             2.30                           0  \n",
       "4999             2.51                           0  \n",
       "\n",
       "[5000 rows x 18 columns]"
      ]
     },
     "execution_count": 8,
     "metadata": {},
     "output_type": "execute_result"
    }
   ],
   "source": [
    "df"
   ]
  },
  {
   "cell_type": "code",
   "execution_count": 9,
   "id": "c8fe6fd8-1e1b-4396-a965-13e06bd90ddb",
   "metadata": {},
   "outputs": [
    {
     "data": {
      "text/html": [
       "<div>\n",
       "<style scoped>\n",
       "    .dataframe tbody tr th:only-of-type {\n",
       "        vertical-align: middle;\n",
       "    }\n",
       "\n",
       "    .dataframe tbody tr th {\n",
       "        vertical-align: top;\n",
       "    }\n",
       "\n",
       "    .dataframe thead th {\n",
       "        text-align: right;\n",
       "    }\n",
       "</style>\n",
       "<table border=\"1\" class=\"dataframe\">\n",
       "  <thead>\n",
       "    <tr style=\"text-align: right;\">\n",
       "      <th></th>\n",
       "      <th>churn</th>\n",
       "      <th>accountlength</th>\n",
       "      <th>internationalplan</th>\n",
       "      <th>voicemailplan</th>\n",
       "      <th>numbervmailmessages</th>\n",
       "      <th>totaldayminutes</th>\n",
       "      <th>totaldaycalls</th>\n",
       "      <th>totaldaycharge</th>\n",
       "      <th>totaleveminutes</th>\n",
       "      <th>totalevecalls</th>\n",
       "      <th>totalevecharge</th>\n",
       "      <th>totalnightminutes</th>\n",
       "      <th>totalnightcalls</th>\n",
       "      <th>totalnightcharge</th>\n",
       "      <th>totalintlminutes</th>\n",
       "      <th>totalintlcalls</th>\n",
       "      <th>totalintlcharge</th>\n",
       "      <th>numbercustomerservicecalls</th>\n",
       "    </tr>\n",
       "  </thead>\n",
       "  <tbody>\n",
       "    <tr>\n",
       "      <th>0</th>\n",
       "      <td>No</td>\n",
       "      <td>128</td>\n",
       "      <td>no</td>\n",
       "      <td>yes</td>\n",
       "      <td>25</td>\n",
       "      <td>265.1</td>\n",
       "      <td>110</td>\n",
       "      <td>45.07</td>\n",
       "      <td>197.4</td>\n",
       "      <td>99</td>\n",
       "      <td>16.78</td>\n",
       "      <td>244.7</td>\n",
       "      <td>91</td>\n",
       "      <td>11.01</td>\n",
       "      <td>10.0</td>\n",
       "      <td>3</td>\n",
       "      <td>2.70</td>\n",
       "      <td>1</td>\n",
       "    </tr>\n",
       "    <tr>\n",
       "      <th>1</th>\n",
       "      <td>No</td>\n",
       "      <td>107</td>\n",
       "      <td>no</td>\n",
       "      <td>yes</td>\n",
       "      <td>26</td>\n",
       "      <td>161.6</td>\n",
       "      <td>123</td>\n",
       "      <td>27.47</td>\n",
       "      <td>195.5</td>\n",
       "      <td>103</td>\n",
       "      <td>16.62</td>\n",
       "      <td>254.4</td>\n",
       "      <td>103</td>\n",
       "      <td>11.45</td>\n",
       "      <td>13.7</td>\n",
       "      <td>3</td>\n",
       "      <td>3.70</td>\n",
       "      <td>1</td>\n",
       "    </tr>\n",
       "    <tr>\n",
       "      <th>2</th>\n",
       "      <td>No</td>\n",
       "      <td>137</td>\n",
       "      <td>no</td>\n",
       "      <td>no</td>\n",
       "      <td>0</td>\n",
       "      <td>243.4</td>\n",
       "      <td>114</td>\n",
       "      <td>41.38</td>\n",
       "      <td>121.2</td>\n",
       "      <td>110</td>\n",
       "      <td>10.30</td>\n",
       "      <td>162.6</td>\n",
       "      <td>104</td>\n",
       "      <td>7.32</td>\n",
       "      <td>12.2</td>\n",
       "      <td>5</td>\n",
       "      <td>3.29</td>\n",
       "      <td>0</td>\n",
       "    </tr>\n",
       "    <tr>\n",
       "      <th>3</th>\n",
       "      <td>No</td>\n",
       "      <td>84</td>\n",
       "      <td>yes</td>\n",
       "      <td>no</td>\n",
       "      <td>0</td>\n",
       "      <td>299.4</td>\n",
       "      <td>71</td>\n",
       "      <td>50.90</td>\n",
       "      <td>61.9</td>\n",
       "      <td>88</td>\n",
       "      <td>5.26</td>\n",
       "      <td>196.9</td>\n",
       "      <td>89</td>\n",
       "      <td>8.86</td>\n",
       "      <td>6.6</td>\n",
       "      <td>7</td>\n",
       "      <td>1.78</td>\n",
       "      <td>2</td>\n",
       "    </tr>\n",
       "    <tr>\n",
       "      <th>4</th>\n",
       "      <td>No</td>\n",
       "      <td>75</td>\n",
       "      <td>yes</td>\n",
       "      <td>no</td>\n",
       "      <td>0</td>\n",
       "      <td>166.7</td>\n",
       "      <td>113</td>\n",
       "      <td>28.34</td>\n",
       "      <td>148.3</td>\n",
       "      <td>122</td>\n",
       "      <td>12.61</td>\n",
       "      <td>186.9</td>\n",
       "      <td>121</td>\n",
       "      <td>8.41</td>\n",
       "      <td>10.1</td>\n",
       "      <td>3</td>\n",
       "      <td>2.73</td>\n",
       "      <td>3</td>\n",
       "    </tr>\n",
       "  </tbody>\n",
       "</table>\n",
       "</div>"
      ],
      "text/plain": [
       "  churn  accountlength internationalplan voicemailplan  numbervmailmessages  \\\n",
       "0    No            128                no           yes                   25   \n",
       "1    No            107                no           yes                   26   \n",
       "2    No            137                no            no                    0   \n",
       "3    No             84               yes            no                    0   \n",
       "4    No             75               yes            no                    0   \n",
       "\n",
       "   totaldayminutes  totaldaycalls  totaldaycharge  totaleveminutes  \\\n",
       "0            265.1            110           45.07            197.4   \n",
       "1            161.6            123           27.47            195.5   \n",
       "2            243.4            114           41.38            121.2   \n",
       "3            299.4             71           50.90             61.9   \n",
       "4            166.7            113           28.34            148.3   \n",
       "\n",
       "   totalevecalls  totalevecharge  totalnightminutes  totalnightcalls  \\\n",
       "0             99           16.78              244.7               91   \n",
       "1            103           16.62              254.4              103   \n",
       "2            110           10.30              162.6              104   \n",
       "3             88            5.26              196.9               89   \n",
       "4            122           12.61              186.9              121   \n",
       "\n",
       "   totalnightcharge  totalintlminutes  totalintlcalls  totalintlcharge  \\\n",
       "0             11.01              10.0               3             2.70   \n",
       "1             11.45              13.7               3             3.70   \n",
       "2              7.32              12.2               5             3.29   \n",
       "3              8.86               6.6               7             1.78   \n",
       "4              8.41              10.1               3             2.73   \n",
       "\n",
       "   numbercustomerservicecalls  \n",
       "0                           1  \n",
       "1                           1  \n",
       "2                           0  \n",
       "3                           2  \n",
       "4                           3  "
      ]
     },
     "execution_count": 9,
     "metadata": {},
     "output_type": "execute_result"
    }
   ],
   "source": [
    "df.head()"
   ]
  },
  {
   "cell_type": "code",
   "execution_count": 10,
   "id": "77aa7994-d5d1-45f4-b16f-560108b01714",
   "metadata": {},
   "outputs": [],
   "source": [
    "def grab_col_names(dataframe, cat_th=10, car_th=20):\n",
    "    \"\"\"\n",
    "    Veri setindeki kategorik, numerik ve kategorik fakat kordinal değişkenlerin isimlerini verir\n",
    "    Parameters\n",
    "    ----------\n",
    "    dataframe: DataFrame\n",
    "        değişkeni isimleri alınmak istenen DataFrame'dir\n",
    "    cat_th: int, float\n",
    "        numerik fakat kategorik olan değişkenler için eşik değeri\n",
    "    car_th int, float\n",
    "        numerik fakat kordinal olan değişenler için eşik değeri\n",
    "\n",
    "    Returns\n",
    "    -------\n",
    "    cat_cols: list\n",
    "        Kategorik değeşken listesi\n",
    "    num_cols: list\n",
    "        Numerik değişken listesi\n",
    "    cat_but_car: list\n",
    "        Kategorik görünümlü kordinal değişken listesi\n",
    "\n",
    "    Notes\n",
    "    -------\n",
    "    cat_cols + num_cols + cat_but_car = toplam değişken sayısı\n",
    "    num_but_cat cat_cols'un içinderdir\n",
    "\n",
    "    \"\"\"\n",
    "    cat_cols = [col for col in dataframe.columns if str(dataframe[col].dtypes) in [\"object\", \"category\", \"bool\"]]\n",
    "\n",
    "    num_but_cat = [col for col in dataframe.columns if dataframe[col].nunique() < 15 and dataframe[col].dtypes in [\"int64\", \"float64\", \"int\", \"float\"]]\n",
    "\n",
    "    cat_but_car = [col for col in dataframe.columns if dataframe[col].nunique() > 20 and dataframe[col].dtypes in [\"object\", \"category\"]]\n",
    "\n",
    "    cat_cols = cat_cols + num_but_cat\n",
    "\n",
    "    cat_cols = [col for col in cat_cols if col not in cat_but_car]\n",
    "\n",
    "    num_cols = [col for col in dataframe.columns if dataframe[col].dtypes in [\"int64\", \"float64\", ]]\n",
    "\n",
    "    num_cols = [col for col in num_cols if col not in num_but_cat]\n",
    "\n",
    "    print(f\"Observations: {dataframe.shape[0]}\")\n",
    "    print(f\"Variables: {dataframe.shape[1]}\")\n",
    "    print(f\"cat_cols: {len(cat_cols)}\")\n",
    "    print(f\"num_cols: {len(num_cols)}\")\n",
    "    print(f\"cat_but_car: {len(cat_but_car)}\")\n",
    "    print(f\"num_but_cat: {len(num_but_cat)}\")\n",
    "\n",
    "    return cat_cols, num_cols, cat_but_car"
   ]
  },
  {
   "cell_type": "code",
   "execution_count": 11,
   "id": "97c760f4-11ef-49c9-969a-3fc6a403b99a",
   "metadata": {},
   "outputs": [
    {
     "name": "stdout",
     "output_type": "stream",
     "text": [
      "Observations: 5000\n",
      "Variables: 18\n",
      "cat_cols: 4\n",
      "num_cols: 14\n",
      "cat_but_car: 0\n",
      "num_but_cat: 1\n"
     ]
    }
   ],
   "source": [
    "cat_cols, num_cols, cat_but_car = grab_col_names(df)"
   ]
  },
  {
   "cell_type": "code",
   "execution_count": 12,
   "id": "60351305-2832-4eb6-ad2f-3a5d5b0fdcf9",
   "metadata": {},
   "outputs": [
    {
     "data": {
      "text/plain": [
       "['churn', 'internationalplan', 'voicemailplan']"
      ]
     },
     "execution_count": 12,
     "metadata": {},
     "output_type": "execute_result"
    }
   ],
   "source": [
    "binary_cols = [col for col in df.columns if df[col].dtype not in [\"int64\", \"float64\"]\n",
    "              and df[col].nunique() == 2]\n",
    "binary_cols"
   ]
  },
  {
   "cell_type": "code",
   "execution_count": 17,
   "id": "b761a6fb-6a55-4efa-aa24-2f947fa5d7a2",
   "metadata": {},
   "outputs": [
    {
     "data": {
      "text/html": [
       "<div>\n",
       "<style scoped>\n",
       "    .dataframe tbody tr th:only-of-type {\n",
       "        vertical-align: middle;\n",
       "    }\n",
       "\n",
       "    .dataframe tbody tr th {\n",
       "        vertical-align: top;\n",
       "    }\n",
       "\n",
       "    .dataframe thead th {\n",
       "        text-align: right;\n",
       "    }\n",
       "</style>\n",
       "<table border=\"1\" class=\"dataframe\">\n",
       "  <thead>\n",
       "    <tr style=\"text-align: right;\">\n",
       "      <th></th>\n",
       "      <th>churn</th>\n",
       "      <th>internationalplan</th>\n",
       "      <th>voicemailplan</th>\n",
       "    </tr>\n",
       "  </thead>\n",
       "  <tbody>\n",
       "    <tr>\n",
       "      <th>0</th>\n",
       "      <td>0</td>\n",
       "      <td>0</td>\n",
       "      <td>1</td>\n",
       "    </tr>\n",
       "    <tr>\n",
       "      <th>1</th>\n",
       "      <td>0</td>\n",
       "      <td>0</td>\n",
       "      <td>1</td>\n",
       "    </tr>\n",
       "    <tr>\n",
       "      <th>2</th>\n",
       "      <td>0</td>\n",
       "      <td>0</td>\n",
       "      <td>0</td>\n",
       "    </tr>\n",
       "    <tr>\n",
       "      <th>3</th>\n",
       "      <td>0</td>\n",
       "      <td>1</td>\n",
       "      <td>0</td>\n",
       "    </tr>\n",
       "    <tr>\n",
       "      <th>4</th>\n",
       "      <td>0</td>\n",
       "      <td>1</td>\n",
       "      <td>0</td>\n",
       "    </tr>\n",
       "  </tbody>\n",
       "</table>\n",
       "</div>"
      ],
      "text/plain": [
       "   churn  internationalplan  voicemailplan\n",
       "0      0                  0              1\n",
       "1      0                  0              1\n",
       "2      0                  0              0\n",
       "3      0                  1              0\n",
       "4      0                  1              0"
      ]
     },
     "execution_count": 17,
     "metadata": {},
     "output_type": "execute_result"
    }
   ],
   "source": [
    "df[binary_cols].head()"
   ]
  },
  {
   "cell_type": "code",
   "execution_count": 14,
   "id": "06d14a52-8f97-4f73-90e0-4e0edc9fb953",
   "metadata": {},
   "outputs": [],
   "source": [
    "def label_encoder (dataframe, binary_col):\n",
    "    labelencoder = LabelEncoder()\n",
    "    dataframe[binary_col] = labelencoder.fit_transform(dataframe[binary_col])\n",
    "    return dataframe"
   ]
  },
  {
   "cell_type": "code",
   "execution_count": 15,
   "id": "ad8949f3-37f7-466a-a042-6b5c2263d95b",
   "metadata": {},
   "outputs": [],
   "source": [
    "for col in binary_cols:\n",
    "    label_encoder(df, col)"
   ]
  },
  {
   "cell_type": "code",
   "execution_count": 16,
   "id": "47c0c621-7af3-4946-90ca-1dbeb8967f43",
   "metadata": {},
   "outputs": [
    {
     "data": {
      "text/html": [
       "<div>\n",
       "<style scoped>\n",
       "    .dataframe tbody tr th:only-of-type {\n",
       "        vertical-align: middle;\n",
       "    }\n",
       "\n",
       "    .dataframe tbody tr th {\n",
       "        vertical-align: top;\n",
       "    }\n",
       "\n",
       "    .dataframe thead th {\n",
       "        text-align: right;\n",
       "    }\n",
       "</style>\n",
       "<table border=\"1\" class=\"dataframe\">\n",
       "  <thead>\n",
       "    <tr style=\"text-align: right;\">\n",
       "      <th></th>\n",
       "      <th>accountlength</th>\n",
       "      <th>numbervmailmessages</th>\n",
       "      <th>totaldayminutes</th>\n",
       "      <th>totaldaycalls</th>\n",
       "      <th>totaldaycharge</th>\n",
       "      <th>totaleveminutes</th>\n",
       "      <th>totalevecalls</th>\n",
       "      <th>totalevecharge</th>\n",
       "      <th>totalnightminutes</th>\n",
       "      <th>totalnightcalls</th>\n",
       "      <th>totalnightcharge</th>\n",
       "      <th>totalintlminutes</th>\n",
       "      <th>totalintlcalls</th>\n",
       "      <th>totalintlcharge</th>\n",
       "    </tr>\n",
       "  </thead>\n",
       "  <tbody>\n",
       "    <tr>\n",
       "      <th>0</th>\n",
       "      <td>0.524793</td>\n",
       "      <td>0.480769</td>\n",
       "      <td>0.754196</td>\n",
       "      <td>0.666667</td>\n",
       "      <td>0.754183</td>\n",
       "      <td>0.542755</td>\n",
       "      <td>0.582353</td>\n",
       "      <td>0.542866</td>\n",
       "      <td>0.619494</td>\n",
       "      <td>0.520000</td>\n",
       "      <td>0.619584</td>\n",
       "      <td>0.500</td>\n",
       "      <td>0.15</td>\n",
       "      <td>0.500000</td>\n",
       "    </tr>\n",
       "    <tr>\n",
       "      <th>1</th>\n",
       "      <td>0.438017</td>\n",
       "      <td>0.500000</td>\n",
       "      <td>0.459744</td>\n",
       "      <td>0.745455</td>\n",
       "      <td>0.459672</td>\n",
       "      <td>0.537531</td>\n",
       "      <td>0.605882</td>\n",
       "      <td>0.537690</td>\n",
       "      <td>0.644051</td>\n",
       "      <td>0.588571</td>\n",
       "      <td>0.644344</td>\n",
       "      <td>0.685</td>\n",
       "      <td>0.15</td>\n",
       "      <td>0.685185</td>\n",
       "    </tr>\n",
       "    <tr>\n",
       "      <th>2</th>\n",
       "      <td>0.561983</td>\n",
       "      <td>0.000000</td>\n",
       "      <td>0.692461</td>\n",
       "      <td>0.690909</td>\n",
       "      <td>0.692436</td>\n",
       "      <td>0.333242</td>\n",
       "      <td>0.647059</td>\n",
       "      <td>0.333225</td>\n",
       "      <td>0.411646</td>\n",
       "      <td>0.594286</td>\n",
       "      <td>0.411930</td>\n",
       "      <td>0.610</td>\n",
       "      <td>0.25</td>\n",
       "      <td>0.609259</td>\n",
       "    </tr>\n",
       "    <tr>\n",
       "      <th>3</th>\n",
       "      <td>0.342975</td>\n",
       "      <td>0.000000</td>\n",
       "      <td>0.851778</td>\n",
       "      <td>0.430303</td>\n",
       "      <td>0.851740</td>\n",
       "      <td>0.170195</td>\n",
       "      <td>0.517647</td>\n",
       "      <td>0.170171</td>\n",
       "      <td>0.498481</td>\n",
       "      <td>0.508571</td>\n",
       "      <td>0.498593</td>\n",
       "      <td>0.330</td>\n",
       "      <td>0.35</td>\n",
       "      <td>0.329630</td>\n",
       "    </tr>\n",
       "    <tr>\n",
       "      <th>4</th>\n",
       "      <td>0.305785</td>\n",
       "      <td>0.000000</td>\n",
       "      <td>0.474253</td>\n",
       "      <td>0.684848</td>\n",
       "      <td>0.474230</td>\n",
       "      <td>0.407754</td>\n",
       "      <td>0.717647</td>\n",
       "      <td>0.407959</td>\n",
       "      <td>0.473165</td>\n",
       "      <td>0.691429</td>\n",
       "      <td>0.473270</td>\n",
       "      <td>0.505</td>\n",
       "      <td>0.15</td>\n",
       "      <td>0.505556</td>\n",
       "    </tr>\n",
       "  </tbody>\n",
       "</table>\n",
       "</div>"
      ],
      "text/plain": [
       "   accountlength  numbervmailmessages  totaldayminutes  totaldaycalls  \\\n",
       "0       0.524793             0.480769         0.754196       0.666667   \n",
       "1       0.438017             0.500000         0.459744       0.745455   \n",
       "2       0.561983             0.000000         0.692461       0.690909   \n",
       "3       0.342975             0.000000         0.851778       0.430303   \n",
       "4       0.305785             0.000000         0.474253       0.684848   \n",
       "\n",
       "   totaldaycharge  totaleveminutes  totalevecalls  totalevecharge  \\\n",
       "0        0.754183         0.542755       0.582353        0.542866   \n",
       "1        0.459672         0.537531       0.605882        0.537690   \n",
       "2        0.692436         0.333242       0.647059        0.333225   \n",
       "3        0.851740         0.170195       0.517647        0.170171   \n",
       "4        0.474230         0.407754       0.717647        0.407959   \n",
       "\n",
       "   totalnightminutes  totalnightcalls  totalnightcharge  totalintlminutes  \\\n",
       "0           0.619494         0.520000          0.619584             0.500   \n",
       "1           0.644051         0.588571          0.644344             0.685   \n",
       "2           0.411646         0.594286          0.411930             0.610   \n",
       "3           0.498481         0.508571          0.498593             0.330   \n",
       "4           0.473165         0.691429          0.473270             0.505   \n",
       "\n",
       "   totalintlcalls  totalintlcharge  \n",
       "0            0.15         0.500000  \n",
       "1            0.15         0.685185  \n",
       "2            0.25         0.609259  \n",
       "3            0.35         0.329630  \n",
       "4            0.15         0.505556  "
      ]
     },
     "execution_count": 16,
     "metadata": {},
     "output_type": "execute_result"
    }
   ],
   "source": [
    "mms = MinMaxScaler()\n",
    "for col in num_cols:\n",
    "    df[col] = mms.fit_transform(df[[col]])\n",
    "df[num_cols].head()"
   ]
  },
  {
   "cell_type": "code",
   "execution_count": 141,
   "id": "28f8d0e2-e288-4243-a89b-79165633296e",
   "metadata": {},
   "outputs": [
    {
     "data": {
      "text/plain": [
       "(5000, 18)"
      ]
     },
     "execution_count": 141,
     "metadata": {},
     "output_type": "execute_result"
    }
   ],
   "source": [
    "df.shape"
   ]
  },
  {
   "cell_type": "code",
   "execution_count": 142,
   "id": "a24021eb-62a5-4f60-baf9-d0184276e4d6",
   "metadata": {},
   "outputs": [
    {
     "data": {
      "text/html": [
       "<div>\n",
       "<style scoped>\n",
       "    .dataframe tbody tr th:only-of-type {\n",
       "        vertical-align: middle;\n",
       "    }\n",
       "\n",
       "    .dataframe tbody tr th {\n",
       "        vertical-align: top;\n",
       "    }\n",
       "\n",
       "    .dataframe thead th {\n",
       "        text-align: right;\n",
       "    }\n",
       "</style>\n",
       "<table border=\"1\" class=\"dataframe\">\n",
       "  <thead>\n",
       "    <tr style=\"text-align: right;\">\n",
       "      <th></th>\n",
       "      <th>count</th>\n",
       "      <th>mean</th>\n",
       "      <th>std</th>\n",
       "      <th>min</th>\n",
       "      <th>25%</th>\n",
       "      <th>50%</th>\n",
       "      <th>75%</th>\n",
       "      <th>max</th>\n",
       "    </tr>\n",
       "  </thead>\n",
       "  <tbody>\n",
       "    <tr>\n",
       "      <th>churn</th>\n",
       "      <td>5000.0</td>\n",
       "      <td>0.141400</td>\n",
       "      <td>0.348469</td>\n",
       "      <td>0.0</td>\n",
       "      <td>0.000000</td>\n",
       "      <td>0.000000</td>\n",
       "      <td>0.000000</td>\n",
       "      <td>1.0</td>\n",
       "    </tr>\n",
       "    <tr>\n",
       "      <th>accountlength</th>\n",
       "      <td>5000.0</td>\n",
       "      <td>0.410160</td>\n",
       "      <td>0.164027</td>\n",
       "      <td>0.0</td>\n",
       "      <td>0.297521</td>\n",
       "      <td>0.409091</td>\n",
       "      <td>0.520661</td>\n",
       "      <td>1.0</td>\n",
       "    </tr>\n",
       "    <tr>\n",
       "      <th>internationalplan</th>\n",
       "      <td>5000.0</td>\n",
       "      <td>0.094600</td>\n",
       "      <td>0.292691</td>\n",
       "      <td>0.0</td>\n",
       "      <td>0.000000</td>\n",
       "      <td>0.000000</td>\n",
       "      <td>0.000000</td>\n",
       "      <td>1.0</td>\n",
       "    </tr>\n",
       "    <tr>\n",
       "      <th>voicemailplan</th>\n",
       "      <td>5000.0</td>\n",
       "      <td>0.264600</td>\n",
       "      <td>0.441164</td>\n",
       "      <td>0.0</td>\n",
       "      <td>0.000000</td>\n",
       "      <td>0.000000</td>\n",
       "      <td>1.000000</td>\n",
       "      <td>1.0</td>\n",
       "    </tr>\n",
       "    <tr>\n",
       "      <th>numbervmailmessages</th>\n",
       "      <td>5000.0</td>\n",
       "      <td>0.149138</td>\n",
       "      <td>0.260508</td>\n",
       "      <td>0.0</td>\n",
       "      <td>0.000000</td>\n",
       "      <td>0.000000</td>\n",
       "      <td>0.326923</td>\n",
       "      <td>1.0</td>\n",
       "    </tr>\n",
       "    <tr>\n",
       "      <th>totaldayminutes</th>\n",
       "      <td>5000.0</td>\n",
       "      <td>0.512913</td>\n",
       "      <td>0.153328</td>\n",
       "      <td>0.0</td>\n",
       "      <td>0.408819</td>\n",
       "      <td>0.512376</td>\n",
       "      <td>0.615078</td>\n",
       "      <td>1.0</td>\n",
       "    </tr>\n",
       "    <tr>\n",
       "      <th>totaldaycalls</th>\n",
       "      <td>5000.0</td>\n",
       "      <td>0.606239</td>\n",
       "      <td>0.120189</td>\n",
       "      <td>0.0</td>\n",
       "      <td>0.527273</td>\n",
       "      <td>0.606061</td>\n",
       "      <td>0.684848</td>\n",
       "      <td>1.0</td>\n",
       "    </tr>\n",
       "    <tr>\n",
       "      <th>totaldaycharge</th>\n",
       "      <td>5000.0</td>\n",
       "      <td>0.512879</td>\n",
       "      <td>0.153314</td>\n",
       "      <td>0.0</td>\n",
       "      <td>0.408802</td>\n",
       "      <td>0.512383</td>\n",
       "      <td>0.614960</td>\n",
       "      <td>1.0</td>\n",
       "    </tr>\n",
       "    <tr>\n",
       "      <th>totaleveminutes</th>\n",
       "      <td>5000.0</td>\n",
       "      <td>0.551654</td>\n",
       "      <td>0.138992</td>\n",
       "      <td>0.0</td>\n",
       "      <td>0.457451</td>\n",
       "      <td>0.552653</td>\n",
       "      <td>0.643662</td>\n",
       "      <td>1.0</td>\n",
       "    </tr>\n",
       "    <tr>\n",
       "      <th>totalevecalls</th>\n",
       "      <td>5000.0</td>\n",
       "      <td>0.589359</td>\n",
       "      <td>0.116626</td>\n",
       "      <td>0.0</td>\n",
       "      <td>0.511765</td>\n",
       "      <td>0.588235</td>\n",
       "      <td>0.670588</td>\n",
       "      <td>1.0</td>\n",
       "    </tr>\n",
       "    <tr>\n",
       "      <th>totalevecharge</th>\n",
       "      <td>5000.0</td>\n",
       "      <td>0.551741</td>\n",
       "      <td>0.139011</td>\n",
       "      <td>0.0</td>\n",
       "      <td>0.457457</td>\n",
       "      <td>0.552896</td>\n",
       "      <td>0.643805</td>\n",
       "      <td>1.0</td>\n",
       "    </tr>\n",
       "    <tr>\n",
       "      <th>totalnightminutes</th>\n",
       "      <td>5000.0</td>\n",
       "      <td>0.507321</td>\n",
       "      <td>0.127918</td>\n",
       "      <td>0.0</td>\n",
       "      <td>0.422532</td>\n",
       "      <td>0.507342</td>\n",
       "      <td>0.594177</td>\n",
       "      <td>1.0</td>\n",
       "    </tr>\n",
       "    <tr>\n",
       "      <th>totalnightcalls</th>\n",
       "      <td>5000.0</td>\n",
       "      <td>0.570967</td>\n",
       "      <td>0.114050</td>\n",
       "      <td>0.0</td>\n",
       "      <td>0.497143</td>\n",
       "      <td>0.571429</td>\n",
       "      <td>0.645714</td>\n",
       "      <td>1.0</td>\n",
       "    </tr>\n",
       "    <tr>\n",
       "      <th>totalnightcharge</th>\n",
       "      <td>5000.0</td>\n",
       "      <td>0.507469</td>\n",
       "      <td>0.127955</td>\n",
       "      <td>0.0</td>\n",
       "      <td>0.422622</td>\n",
       "      <td>0.507597</td>\n",
       "      <td>0.594260</td>\n",
       "      <td>1.0</td>\n",
       "    </tr>\n",
       "    <tr>\n",
       "      <th>totalintlminutes</th>\n",
       "      <td>5000.0</td>\n",
       "      <td>0.513089</td>\n",
       "      <td>0.138070</td>\n",
       "      <td>0.0</td>\n",
       "      <td>0.425000</td>\n",
       "      <td>0.515000</td>\n",
       "      <td>0.600000</td>\n",
       "      <td>1.0</td>\n",
       "    </tr>\n",
       "    <tr>\n",
       "      <th>totalintlcalls</th>\n",
       "      <td>5000.0</td>\n",
       "      <td>0.221760</td>\n",
       "      <td>0.122839</td>\n",
       "      <td>0.0</td>\n",
       "      <td>0.150000</td>\n",
       "      <td>0.200000</td>\n",
       "      <td>0.300000</td>\n",
       "      <td>1.0</td>\n",
       "    </tr>\n",
       "    <tr>\n",
       "      <th>totalintlcharge</th>\n",
       "      <td>5000.0</td>\n",
       "      <td>0.513184</td>\n",
       "      <td>0.138058</td>\n",
       "      <td>0.0</td>\n",
       "      <td>0.425926</td>\n",
       "      <td>0.514815</td>\n",
       "      <td>0.600000</td>\n",
       "      <td>1.0</td>\n",
       "    </tr>\n",
       "    <tr>\n",
       "      <th>numbercustomerservicecalls</th>\n",
       "      <td>5000.0</td>\n",
       "      <td>1.570400</td>\n",
       "      <td>1.306363</td>\n",
       "      <td>0.0</td>\n",
       "      <td>1.000000</td>\n",
       "      <td>1.000000</td>\n",
       "      <td>2.000000</td>\n",
       "      <td>9.0</td>\n",
       "    </tr>\n",
       "  </tbody>\n",
       "</table>\n",
       "</div>"
      ],
      "text/plain": [
       "                             count      mean       std  min       25%  \\\n",
       "churn                       5000.0  0.141400  0.348469  0.0  0.000000   \n",
       "accountlength               5000.0  0.410160  0.164027  0.0  0.297521   \n",
       "internationalplan           5000.0  0.094600  0.292691  0.0  0.000000   \n",
       "voicemailplan               5000.0  0.264600  0.441164  0.0  0.000000   \n",
       "numbervmailmessages         5000.0  0.149138  0.260508  0.0  0.000000   \n",
       "totaldayminutes             5000.0  0.512913  0.153328  0.0  0.408819   \n",
       "totaldaycalls               5000.0  0.606239  0.120189  0.0  0.527273   \n",
       "totaldaycharge              5000.0  0.512879  0.153314  0.0  0.408802   \n",
       "totaleveminutes             5000.0  0.551654  0.138992  0.0  0.457451   \n",
       "totalevecalls               5000.0  0.589359  0.116626  0.0  0.511765   \n",
       "totalevecharge              5000.0  0.551741  0.139011  0.0  0.457457   \n",
       "totalnightminutes           5000.0  0.507321  0.127918  0.0  0.422532   \n",
       "totalnightcalls             5000.0  0.570967  0.114050  0.0  0.497143   \n",
       "totalnightcharge            5000.0  0.507469  0.127955  0.0  0.422622   \n",
       "totalintlminutes            5000.0  0.513089  0.138070  0.0  0.425000   \n",
       "totalintlcalls              5000.0  0.221760  0.122839  0.0  0.150000   \n",
       "totalintlcharge             5000.0  0.513184  0.138058  0.0  0.425926   \n",
       "numbercustomerservicecalls  5000.0  1.570400  1.306363  0.0  1.000000   \n",
       "\n",
       "                                 50%       75%  max  \n",
       "churn                       0.000000  0.000000  1.0  \n",
       "accountlength               0.409091  0.520661  1.0  \n",
       "internationalplan           0.000000  0.000000  1.0  \n",
       "voicemailplan               0.000000  1.000000  1.0  \n",
       "numbervmailmessages         0.000000  0.326923  1.0  \n",
       "totaldayminutes             0.512376  0.615078  1.0  \n",
       "totaldaycalls               0.606061  0.684848  1.0  \n",
       "totaldaycharge              0.512383  0.614960  1.0  \n",
       "totaleveminutes             0.552653  0.643662  1.0  \n",
       "totalevecalls               0.588235  0.670588  1.0  \n",
       "totalevecharge              0.552896  0.643805  1.0  \n",
       "totalnightminutes           0.507342  0.594177  1.0  \n",
       "totalnightcalls             0.571429  0.645714  1.0  \n",
       "totalnightcharge            0.507597  0.594260  1.0  \n",
       "totalintlminutes            0.515000  0.600000  1.0  \n",
       "totalintlcalls              0.200000  0.300000  1.0  \n",
       "totalintlcharge             0.514815  0.600000  1.0  \n",
       "numbercustomerservicecalls  1.000000  2.000000  9.0  "
      ]
     },
     "execution_count": 142,
     "metadata": {},
     "output_type": "execute_result"
    }
   ],
   "source": [
    "df.describe().T"
   ]
  },
  {
   "cell_type": "code",
   "execution_count": 143,
   "id": "b1f06718-f337-4343-91df-16d94df7f3d6",
   "metadata": {},
   "outputs": [],
   "source": [
    "df = df.drop([\"numbercustomerservicecalls\"], axis = 1)"
   ]
  },
  {
   "cell_type": "code",
   "execution_count": 18,
   "id": "f374470e-2cd1-4f22-885f-77ad5e2b8a8d",
   "metadata": {},
   "outputs": [],
   "source": [
    "X = df.drop([\"churn\"], axis=1)"
   ]
  },
  {
   "cell_type": "code",
   "execution_count": 19,
   "id": "f39cab55-9a6a-4646-9443-213bc0197ada",
   "metadata": {},
   "outputs": [
    {
     "data": {
      "text/html": [
       "<div>\n",
       "<style scoped>\n",
       "    .dataframe tbody tr th:only-of-type {\n",
       "        vertical-align: middle;\n",
       "    }\n",
       "\n",
       "    .dataframe tbody tr th {\n",
       "        vertical-align: top;\n",
       "    }\n",
       "\n",
       "    .dataframe thead th {\n",
       "        text-align: right;\n",
       "    }\n",
       "</style>\n",
       "<table border=\"1\" class=\"dataframe\">\n",
       "  <thead>\n",
       "    <tr style=\"text-align: right;\">\n",
       "      <th></th>\n",
       "      <th>accountlength</th>\n",
       "      <th>internationalplan</th>\n",
       "      <th>voicemailplan</th>\n",
       "      <th>numbervmailmessages</th>\n",
       "      <th>totaldayminutes</th>\n",
       "      <th>totaldaycalls</th>\n",
       "      <th>totaldaycharge</th>\n",
       "      <th>totaleveminutes</th>\n",
       "      <th>totalevecalls</th>\n",
       "      <th>totalevecharge</th>\n",
       "      <th>totalnightminutes</th>\n",
       "      <th>totalnightcalls</th>\n",
       "      <th>totalnightcharge</th>\n",
       "      <th>totalintlminutes</th>\n",
       "      <th>totalintlcalls</th>\n",
       "      <th>totalintlcharge</th>\n",
       "      <th>numbercustomerservicecalls</th>\n",
       "    </tr>\n",
       "  </thead>\n",
       "  <tbody>\n",
       "    <tr>\n",
       "      <th>0</th>\n",
       "      <td>0.524793</td>\n",
       "      <td>0</td>\n",
       "      <td>1</td>\n",
       "      <td>0.480769</td>\n",
       "      <td>0.754196</td>\n",
       "      <td>0.666667</td>\n",
       "      <td>0.754183</td>\n",
       "      <td>0.542755</td>\n",
       "      <td>0.582353</td>\n",
       "      <td>0.542866</td>\n",
       "      <td>0.619494</td>\n",
       "      <td>0.520000</td>\n",
       "      <td>0.619584</td>\n",
       "      <td>0.500</td>\n",
       "      <td>0.15</td>\n",
       "      <td>0.500000</td>\n",
       "      <td>1</td>\n",
       "    </tr>\n",
       "    <tr>\n",
       "      <th>1</th>\n",
       "      <td>0.438017</td>\n",
       "      <td>0</td>\n",
       "      <td>1</td>\n",
       "      <td>0.500000</td>\n",
       "      <td>0.459744</td>\n",
       "      <td>0.745455</td>\n",
       "      <td>0.459672</td>\n",
       "      <td>0.537531</td>\n",
       "      <td>0.605882</td>\n",
       "      <td>0.537690</td>\n",
       "      <td>0.644051</td>\n",
       "      <td>0.588571</td>\n",
       "      <td>0.644344</td>\n",
       "      <td>0.685</td>\n",
       "      <td>0.15</td>\n",
       "      <td>0.685185</td>\n",
       "      <td>1</td>\n",
       "    </tr>\n",
       "    <tr>\n",
       "      <th>2</th>\n",
       "      <td>0.561983</td>\n",
       "      <td>0</td>\n",
       "      <td>0</td>\n",
       "      <td>0.000000</td>\n",
       "      <td>0.692461</td>\n",
       "      <td>0.690909</td>\n",
       "      <td>0.692436</td>\n",
       "      <td>0.333242</td>\n",
       "      <td>0.647059</td>\n",
       "      <td>0.333225</td>\n",
       "      <td>0.411646</td>\n",
       "      <td>0.594286</td>\n",
       "      <td>0.411930</td>\n",
       "      <td>0.610</td>\n",
       "      <td>0.25</td>\n",
       "      <td>0.609259</td>\n",
       "      <td>0</td>\n",
       "    </tr>\n",
       "    <tr>\n",
       "      <th>3</th>\n",
       "      <td>0.342975</td>\n",
       "      <td>1</td>\n",
       "      <td>0</td>\n",
       "      <td>0.000000</td>\n",
       "      <td>0.851778</td>\n",
       "      <td>0.430303</td>\n",
       "      <td>0.851740</td>\n",
       "      <td>0.170195</td>\n",
       "      <td>0.517647</td>\n",
       "      <td>0.170171</td>\n",
       "      <td>0.498481</td>\n",
       "      <td>0.508571</td>\n",
       "      <td>0.498593</td>\n",
       "      <td>0.330</td>\n",
       "      <td>0.35</td>\n",
       "      <td>0.329630</td>\n",
       "      <td>2</td>\n",
       "    </tr>\n",
       "    <tr>\n",
       "      <th>4</th>\n",
       "      <td>0.305785</td>\n",
       "      <td>1</td>\n",
       "      <td>0</td>\n",
       "      <td>0.000000</td>\n",
       "      <td>0.474253</td>\n",
       "      <td>0.684848</td>\n",
       "      <td>0.474230</td>\n",
       "      <td>0.407754</td>\n",
       "      <td>0.717647</td>\n",
       "      <td>0.407959</td>\n",
       "      <td>0.473165</td>\n",
       "      <td>0.691429</td>\n",
       "      <td>0.473270</td>\n",
       "      <td>0.505</td>\n",
       "      <td>0.15</td>\n",
       "      <td>0.505556</td>\n",
       "      <td>3</td>\n",
       "    </tr>\n",
       "    <tr>\n",
       "      <th>...</th>\n",
       "      <td>...</td>\n",
       "      <td>...</td>\n",
       "      <td>...</td>\n",
       "      <td>...</td>\n",
       "      <td>...</td>\n",
       "      <td>...</td>\n",
       "      <td>...</td>\n",
       "      <td>...</td>\n",
       "      <td>...</td>\n",
       "      <td>...</td>\n",
       "      <td>...</td>\n",
       "      <td>...</td>\n",
       "      <td>...</td>\n",
       "      <td>...</td>\n",
       "      <td>...</td>\n",
       "      <td>...</td>\n",
       "      <td>...</td>\n",
       "    </tr>\n",
       "    <tr>\n",
       "      <th>4995</th>\n",
       "      <td>0.202479</td>\n",
       "      <td>0</td>\n",
       "      <td>1</td>\n",
       "      <td>0.769231</td>\n",
       "      <td>0.670555</td>\n",
       "      <td>0.769697</td>\n",
       "      <td>0.670515</td>\n",
       "      <td>0.613143</td>\n",
       "      <td>0.741176</td>\n",
       "      <td>0.613394</td>\n",
       "      <td>0.753165</td>\n",
       "      <td>0.662857</td>\n",
       "      <td>0.753517</td>\n",
       "      <td>0.495</td>\n",
       "      <td>0.25</td>\n",
       "      <td>0.494444</td>\n",
       "      <td>2</td>\n",
       "    </tr>\n",
       "    <tr>\n",
       "      <th>4996</th>\n",
       "      <td>0.623967</td>\n",
       "      <td>0</td>\n",
       "      <td>0</td>\n",
       "      <td>0.000000</td>\n",
       "      <td>0.524040</td>\n",
       "      <td>0.545455</td>\n",
       "      <td>0.523929</td>\n",
       "      <td>0.706076</td>\n",
       "      <td>0.429412</td>\n",
       "      <td>0.706244</td>\n",
       "      <td>0.540759</td>\n",
       "      <td>0.645714</td>\n",
       "      <td>0.540799</td>\n",
       "      <td>0.735</td>\n",
       "      <td>0.10</td>\n",
       "      <td>0.735185</td>\n",
       "      <td>3</td>\n",
       "    </tr>\n",
       "    <tr>\n",
       "      <th>4997</th>\n",
       "      <td>0.247934</td>\n",
       "      <td>0</td>\n",
       "      <td>0</td>\n",
       "      <td>0.000000</td>\n",
       "      <td>0.400000</td>\n",
       "      <td>0.539394</td>\n",
       "      <td>0.399933</td>\n",
       "      <td>0.475117</td>\n",
       "      <td>0.752941</td>\n",
       "      <td>0.475251</td>\n",
       "      <td>0.537722</td>\n",
       "      <td>0.554286</td>\n",
       "      <td>0.537985</td>\n",
       "      <td>0.680</td>\n",
       "      <td>0.20</td>\n",
       "      <td>0.679630</td>\n",
       "      <td>1</td>\n",
       "    </tr>\n",
       "    <tr>\n",
       "      <th>4998</th>\n",
       "      <td>0.446281</td>\n",
       "      <td>0</td>\n",
       "      <td>0</td>\n",
       "      <td>0.000000</td>\n",
       "      <td>0.537127</td>\n",
       "      <td>0.406061</td>\n",
       "      <td>0.537149</td>\n",
       "      <td>0.472092</td>\n",
       "      <td>0.541176</td>\n",
       "      <td>0.472016</td>\n",
       "      <td>0.568101</td>\n",
       "      <td>0.508571</td>\n",
       "      <td>0.568374</td>\n",
       "      <td>0.425</td>\n",
       "      <td>0.30</td>\n",
       "      <td>0.425926</td>\n",
       "      <td>0</td>\n",
       "    </tr>\n",
       "    <tr>\n",
       "      <th>4999</th>\n",
       "      <td>0.351240</td>\n",
       "      <td>0</td>\n",
       "      <td>1</td>\n",
       "      <td>0.653846</td>\n",
       "      <td>0.368137</td>\n",
       "      <td>0.618182</td>\n",
       "      <td>0.368139</td>\n",
       "      <td>0.734396</td>\n",
       "      <td>0.611765</td>\n",
       "      <td>0.734390</td>\n",
       "      <td>0.391899</td>\n",
       "      <td>0.571429</td>\n",
       "      <td>0.392234</td>\n",
       "      <td>0.465</td>\n",
       "      <td>0.80</td>\n",
       "      <td>0.464815</td>\n",
       "      <td>0</td>\n",
       "    </tr>\n",
       "  </tbody>\n",
       "</table>\n",
       "<p>5000 rows × 17 columns</p>\n",
       "</div>"
      ],
      "text/plain": [
       "      accountlength  internationalplan  voicemailplan  numbervmailmessages  \\\n",
       "0          0.524793                  0              1             0.480769   \n",
       "1          0.438017                  0              1             0.500000   \n",
       "2          0.561983                  0              0             0.000000   \n",
       "3          0.342975                  1              0             0.000000   \n",
       "4          0.305785                  1              0             0.000000   \n",
       "...             ...                ...            ...                  ...   \n",
       "4995       0.202479                  0              1             0.769231   \n",
       "4996       0.623967                  0              0             0.000000   \n",
       "4997       0.247934                  0              0             0.000000   \n",
       "4998       0.446281                  0              0             0.000000   \n",
       "4999       0.351240                  0              1             0.653846   \n",
       "\n",
       "      totaldayminutes  totaldaycalls  totaldaycharge  totaleveminutes  \\\n",
       "0            0.754196       0.666667        0.754183         0.542755   \n",
       "1            0.459744       0.745455        0.459672         0.537531   \n",
       "2            0.692461       0.690909        0.692436         0.333242   \n",
       "3            0.851778       0.430303        0.851740         0.170195   \n",
       "4            0.474253       0.684848        0.474230         0.407754   \n",
       "...               ...            ...             ...              ...   \n",
       "4995         0.670555       0.769697        0.670515         0.613143   \n",
       "4996         0.524040       0.545455        0.523929         0.706076   \n",
       "4997         0.400000       0.539394        0.399933         0.475117   \n",
       "4998         0.537127       0.406061        0.537149         0.472092   \n",
       "4999         0.368137       0.618182        0.368139         0.734396   \n",
       "\n",
       "      totalevecalls  totalevecharge  totalnightminutes  totalnightcalls  \\\n",
       "0          0.582353        0.542866           0.619494         0.520000   \n",
       "1          0.605882        0.537690           0.644051         0.588571   \n",
       "2          0.647059        0.333225           0.411646         0.594286   \n",
       "3          0.517647        0.170171           0.498481         0.508571   \n",
       "4          0.717647        0.407959           0.473165         0.691429   \n",
       "...             ...             ...                ...              ...   \n",
       "4995       0.741176        0.613394           0.753165         0.662857   \n",
       "4996       0.429412        0.706244           0.540759         0.645714   \n",
       "4997       0.752941        0.475251           0.537722         0.554286   \n",
       "4998       0.541176        0.472016           0.568101         0.508571   \n",
       "4999       0.611765        0.734390           0.391899         0.571429   \n",
       "\n",
       "      totalnightcharge  totalintlminutes  totalintlcalls  totalintlcharge  \\\n",
       "0             0.619584             0.500            0.15         0.500000   \n",
       "1             0.644344             0.685            0.15         0.685185   \n",
       "2             0.411930             0.610            0.25         0.609259   \n",
       "3             0.498593             0.330            0.35         0.329630   \n",
       "4             0.473270             0.505            0.15         0.505556   \n",
       "...                ...               ...             ...              ...   \n",
       "4995          0.753517             0.495            0.25         0.494444   \n",
       "4996          0.540799             0.735            0.10         0.735185   \n",
       "4997          0.537985             0.680            0.20         0.679630   \n",
       "4998          0.568374             0.425            0.30         0.425926   \n",
       "4999          0.392234             0.465            0.80         0.464815   \n",
       "\n",
       "      numbercustomerservicecalls  \n",
       "0                              1  \n",
       "1                              1  \n",
       "2                              0  \n",
       "3                              2  \n",
       "4                              3  \n",
       "...                          ...  \n",
       "4995                           2  \n",
       "4996                           3  \n",
       "4997                           1  \n",
       "4998                           0  \n",
       "4999                           0  \n",
       "\n",
       "[5000 rows x 17 columns]"
      ]
     },
     "execution_count": 19,
     "metadata": {},
     "output_type": "execute_result"
    }
   ],
   "source": [
    "X"
   ]
  },
  {
   "cell_type": "code",
   "execution_count": 146,
   "id": "debffd35-59a7-49ad-b257-302f95d92356",
   "metadata": {},
   "outputs": [],
   "source": [
    "y = df[\"churn\"]"
   ]
  },
  {
   "cell_type": "code",
   "execution_count": 147,
   "id": "3ca53924-e2bd-4423-b589-45eb9635b2c8",
   "metadata": {},
   "outputs": [
    {
     "data": {
      "text/plain": [
       "0       0\n",
       "1       0\n",
       "2       0\n",
       "3       0\n",
       "4       0\n",
       "       ..\n",
       "4995    0\n",
       "4996    1\n",
       "4997    0\n",
       "4998    0\n",
       "4999    0\n",
       "Name: churn, Length: 5000, dtype: int32"
      ]
     },
     "execution_count": 147,
     "metadata": {},
     "output_type": "execute_result"
    }
   ],
   "source": [
    "y"
   ]
  },
  {
   "cell_type": "code",
   "execution_count": 66,
   "id": "76cd861f-573a-417b-9b21-05636b200b5a",
   "metadata": {},
   "outputs": [],
   "source": [
    "knn_model = KNeighborsClassifier().fit(X, y)"
   ]
  },
  {
   "cell_type": "code",
   "execution_count": 67,
   "id": "7588c708-1a84-4498-81ae-6cbe28b19248",
   "metadata": {},
   "outputs": [],
   "source": [
    "random_user = X.sample(1, random_state=45)"
   ]
  },
  {
   "cell_type": "code",
   "execution_count": 68,
   "id": "674d44a5-9cc8-45f3-a520-0c5e51679f73",
   "metadata": {},
   "outputs": [
    {
     "data": {
      "text/html": [
       "<div>\n",
       "<style scoped>\n",
       "    .dataframe tbody tr th:only-of-type {\n",
       "        vertical-align: middle;\n",
       "    }\n",
       "\n",
       "    .dataframe tbody tr th {\n",
       "        vertical-align: top;\n",
       "    }\n",
       "\n",
       "    .dataframe thead th {\n",
       "        text-align: right;\n",
       "    }\n",
       "</style>\n",
       "<table border=\"1\" class=\"dataframe\">\n",
       "  <thead>\n",
       "    <tr style=\"text-align: right;\">\n",
       "      <th></th>\n",
       "      <th>accountlength</th>\n",
       "      <th>internationalplan</th>\n",
       "      <th>voicemailplan</th>\n",
       "      <th>numbervmailmessages</th>\n",
       "      <th>totaldayminutes</th>\n",
       "      <th>totaldaycalls</th>\n",
       "      <th>totaldaycharge</th>\n",
       "      <th>totaleveminutes</th>\n",
       "      <th>totalevecalls</th>\n",
       "      <th>totalevecharge</th>\n",
       "      <th>totalnightminutes</th>\n",
       "      <th>totalnightcalls</th>\n",
       "      <th>totalnightcharge</th>\n",
       "      <th>totalintlminutes</th>\n",
       "      <th>totalintlcalls</th>\n",
       "      <th>totalintlcharge</th>\n",
       "    </tr>\n",
       "  </thead>\n",
       "  <tbody>\n",
       "    <tr>\n",
       "      <th>4988</th>\n",
       "      <td>0.326446</td>\n",
       "      <td>0</td>\n",
       "      <td>0</td>\n",
       "      <td>0.0</td>\n",
       "      <td>0.446657</td>\n",
       "      <td>0.612121</td>\n",
       "      <td>0.44662</td>\n",
       "      <td>0.5741</td>\n",
       "      <td>0.747059</td>\n",
       "      <td>0.574248</td>\n",
       "      <td>0.286835</td>\n",
       "      <td>0.622857</td>\n",
       "      <td>0.287001</td>\n",
       "      <td>0.81</td>\n",
       "      <td>0.1</td>\n",
       "      <td>0.809259</td>\n",
       "    </tr>\n",
       "  </tbody>\n",
       "</table>\n",
       "</div>"
      ],
      "text/plain": [
       "      accountlength  internationalplan  voicemailplan  numbervmailmessages  \\\n",
       "4988       0.326446                  0              0                  0.0   \n",
       "\n",
       "      totaldayminutes  totaldaycalls  totaldaycharge  totaleveminutes  \\\n",
       "4988         0.446657       0.612121         0.44662           0.5741   \n",
       "\n",
       "      totalevecalls  totalevecharge  totalnightminutes  totalnightcalls  \\\n",
       "4988       0.747059        0.574248           0.286835         0.622857   \n",
       "\n",
       "      totalnightcharge  totalintlminutes  totalintlcalls  totalintlcharge  \n",
       "4988          0.287001              0.81             0.1         0.809259  "
      ]
     },
     "execution_count": 68,
     "metadata": {},
     "output_type": "execute_result"
    }
   ],
   "source": [
    "random_user"
   ]
  },
  {
   "cell_type": "code",
   "execution_count": 69,
   "id": "e407bbca-ae06-40fb-bca0-d60316bf4cc7",
   "metadata": {},
   "outputs": [
    {
     "data": {
      "text/plain": [
       "array([0])"
      ]
     },
     "execution_count": 69,
     "metadata": {},
     "output_type": "execute_result"
    }
   ],
   "source": [
    "knn_model.predict(random_user)"
   ]
  },
  {
   "cell_type": "code",
   "execution_count": 70,
   "id": "26f67404-c362-4409-aeba-ab4ecfec8bf9",
   "metadata": {},
   "outputs": [],
   "source": [
    "y_pred = knn_model.predict(X)"
   ]
  },
  {
   "cell_type": "code",
   "execution_count": 71,
   "id": "4d2ae3ed-9798-4497-aa3f-22656c69c5b6",
   "metadata": {},
   "outputs": [],
   "source": [
    "y_prob = knn_model.predict_proba(X)[:, 1]"
   ]
  },
  {
   "cell_type": "code",
   "execution_count": 72,
   "id": "99fb2dff-b73c-4b7e-a346-ebf185718448",
   "metadata": {},
   "outputs": [
    {
     "name": "stdout",
     "output_type": "stream",
     "text": [
      "              precision    recall  f1-score   support\n",
      "\n",
      "           0       0.92      0.99      0.95      4293\n",
      "           1       0.92      0.46      0.61       707\n",
      "\n",
      "    accuracy                           0.92      5000\n",
      "   macro avg       0.92      0.73      0.78      5000\n",
      "weighted avg       0.92      0.92      0.91      5000\n",
      "\n"
     ]
    }
   ],
   "source": [
    "print(classification_report(y, y_pred))"
   ]
  },
  {
   "cell_type": "code",
   "execution_count": 73,
   "id": "02fac874-3ebe-4cc7-918f-46e31ce6f120",
   "metadata": {},
   "outputs": [
    {
     "data": {
      "text/plain": [
       "0.9428939449800027"
      ]
     },
     "execution_count": 73,
     "metadata": {},
     "output_type": "execute_result"
    }
   ],
   "source": [
    "roc_auc_score(y, y_prob)"
   ]
  },
  {
   "cell_type": "code",
   "execution_count": 84,
   "id": "a4ba0d6e-6de5-47fd-878f-9cc3eaf0d776",
   "metadata": {},
   "outputs": [],
   "source": [
    "cv_results = cross_validate(knn_model, X, y, cv=5, scoring=[\"accuracy\", \"f1\", \"roc_auc\"])"
   ]
  },
  {
   "cell_type": "code",
   "execution_count": 85,
   "id": "eee909b5-249a-441c-bce2-cfac84c120f4",
   "metadata": {},
   "outputs": [
    {
     "data": {
      "text/plain": [
       "{'fit_time': array([0.0246892 , 0.00400996, 0.00759006, 0.00858927, 0.00554776]),\n",
       " 'score_time': array([0.21294165, 0.12824082, 0.16329336, 0.13185239, 0.08745098]),\n",
       " 'test_accuracy': array([0.891, 0.891, 0.905, 0.891, 0.898]),\n",
       " 'test_f1': array([0.47342995, 0.44102564, 0.53658537, 0.45226131, 0.50961538]),\n",
       " 'test_roc_auc': array([0.73553282, 0.76755918, 0.79888374, 0.76220083, 0.77906776])}"
      ]
     },
     "execution_count": 85,
     "metadata": {},
     "output_type": "execute_result"
    }
   ],
   "source": [
    "cv_results"
   ]
  },
  {
   "cell_type": "code",
   "execution_count": 86,
   "id": "0cdae175-9363-4407-b14f-c9a7a3abd2e2",
   "metadata": {},
   "outputs": [
    {
     "data": {
      "text/plain": [
       "0.8952"
      ]
     },
     "execution_count": 86,
     "metadata": {},
     "output_type": "execute_result"
    }
   ],
   "source": [
    "cv_results[\"test_accuracy\"].mean()"
   ]
  },
  {
   "cell_type": "code",
   "execution_count": 87,
   "id": "65964576-38f8-4824-9f1c-e1408901eb72",
   "metadata": {},
   "outputs": [
    {
     "data": {
      "text/plain": [
       "0.48258352994363374"
      ]
     },
     "execution_count": 87,
     "metadata": {},
     "output_type": "execute_result"
    }
   ],
   "source": [
    "cv_results[\"test_f1\"].mean()"
   ]
  },
  {
   "cell_type": "code",
   "execution_count": 88,
   "id": "d124b78c-5954-4e3a-bea7-850905b3e9a0",
   "metadata": {},
   "outputs": [
    {
     "data": {
      "text/plain": [
       "0.7686488666857643"
      ]
     },
     "execution_count": 88,
     "metadata": {},
     "output_type": "execute_result"
    }
   ],
   "source": [
    "cv_results[\"test_roc_auc\"].mean()"
   ]
  },
  {
   "cell_type": "code",
   "execution_count": 89,
   "id": "f5c7f416-4849-469f-b459-fb3ebe32b3f4",
   "metadata": {},
   "outputs": [],
   "source": [
    "knn_model = KNeighborsClassifier()"
   ]
  },
  {
   "cell_type": "code",
   "execution_count": 90,
   "id": "81679cf3-aabe-457e-813f-33828402b71d",
   "metadata": {},
   "outputs": [
    {
     "data": {
      "text/html": [
       "<style>#sk-container-id-1 {\n",
       "  /* Definition of color scheme common for light and dark mode */\n",
       "  --sklearn-color-text: black;\n",
       "  --sklearn-color-line: gray;\n",
       "  /* Definition of color scheme for unfitted estimators */\n",
       "  --sklearn-color-unfitted-level-0: #fff5e6;\n",
       "  --sklearn-color-unfitted-level-1: #f6e4d2;\n",
       "  --sklearn-color-unfitted-level-2: #ffe0b3;\n",
       "  --sklearn-color-unfitted-level-3: chocolate;\n",
       "  /* Definition of color scheme for fitted estimators */\n",
       "  --sklearn-color-fitted-level-0: #f0f8ff;\n",
       "  --sklearn-color-fitted-level-1: #d4ebff;\n",
       "  --sklearn-color-fitted-level-2: #b3dbfd;\n",
       "  --sklearn-color-fitted-level-3: cornflowerblue;\n",
       "\n",
       "  /* Specific color for light theme */\n",
       "  --sklearn-color-text-on-default-background: var(--sg-text-color, var(--theme-code-foreground, var(--jp-content-font-color1, black)));\n",
       "  --sklearn-color-background: var(--sg-background-color, var(--theme-background, var(--jp-layout-color0, white)));\n",
       "  --sklearn-color-border-box: var(--sg-text-color, var(--theme-code-foreground, var(--jp-content-font-color1, black)));\n",
       "  --sklearn-color-icon: #696969;\n",
       "\n",
       "  @media (prefers-color-scheme: dark) {\n",
       "    /* Redefinition of color scheme for dark theme */\n",
       "    --sklearn-color-text-on-default-background: var(--sg-text-color, var(--theme-code-foreground, var(--jp-content-font-color1, white)));\n",
       "    --sklearn-color-background: var(--sg-background-color, var(--theme-background, var(--jp-layout-color0, #111)));\n",
       "    --sklearn-color-border-box: var(--sg-text-color, var(--theme-code-foreground, var(--jp-content-font-color1, white)));\n",
       "    --sklearn-color-icon: #878787;\n",
       "  }\n",
       "}\n",
       "\n",
       "#sk-container-id-1 {\n",
       "  color: var(--sklearn-color-text);\n",
       "}\n",
       "\n",
       "#sk-container-id-1 pre {\n",
       "  padding: 0;\n",
       "}\n",
       "\n",
       "#sk-container-id-1 input.sk-hidden--visually {\n",
       "  border: 0;\n",
       "  clip: rect(1px 1px 1px 1px);\n",
       "  clip: rect(1px, 1px, 1px, 1px);\n",
       "  height: 1px;\n",
       "  margin: -1px;\n",
       "  overflow: hidden;\n",
       "  padding: 0;\n",
       "  position: absolute;\n",
       "  width: 1px;\n",
       "}\n",
       "\n",
       "#sk-container-id-1 div.sk-dashed-wrapped {\n",
       "  border: 1px dashed var(--sklearn-color-line);\n",
       "  margin: 0 0.4em 0.5em 0.4em;\n",
       "  box-sizing: border-box;\n",
       "  padding-bottom: 0.4em;\n",
       "  background-color: var(--sklearn-color-background);\n",
       "}\n",
       "\n",
       "#sk-container-id-1 div.sk-container {\n",
       "  /* jupyter's `normalize.less` sets `[hidden] { display: none; }`\n",
       "     but bootstrap.min.css set `[hidden] { display: none !important; }`\n",
       "     so we also need the `!important` here to be able to override the\n",
       "     default hidden behavior on the sphinx rendered scikit-learn.org.\n",
       "     See: https://github.com/scikit-learn/scikit-learn/issues/21755 */\n",
       "  display: inline-block !important;\n",
       "  position: relative;\n",
       "}\n",
       "\n",
       "#sk-container-id-1 div.sk-text-repr-fallback {\n",
       "  display: none;\n",
       "}\n",
       "\n",
       "div.sk-parallel-item,\n",
       "div.sk-serial,\n",
       "div.sk-item {\n",
       "  /* draw centered vertical line to link estimators */\n",
       "  background-image: linear-gradient(var(--sklearn-color-text-on-default-background), var(--sklearn-color-text-on-default-background));\n",
       "  background-size: 2px 100%;\n",
       "  background-repeat: no-repeat;\n",
       "  background-position: center center;\n",
       "}\n",
       "\n",
       "/* Parallel-specific style estimator block */\n",
       "\n",
       "#sk-container-id-1 div.sk-parallel-item::after {\n",
       "  content: \"\";\n",
       "  width: 100%;\n",
       "  border-bottom: 2px solid var(--sklearn-color-text-on-default-background);\n",
       "  flex-grow: 1;\n",
       "}\n",
       "\n",
       "#sk-container-id-1 div.sk-parallel {\n",
       "  display: flex;\n",
       "  align-items: stretch;\n",
       "  justify-content: center;\n",
       "  background-color: var(--sklearn-color-background);\n",
       "  position: relative;\n",
       "}\n",
       "\n",
       "#sk-container-id-1 div.sk-parallel-item {\n",
       "  display: flex;\n",
       "  flex-direction: column;\n",
       "}\n",
       "\n",
       "#sk-container-id-1 div.sk-parallel-item:first-child::after {\n",
       "  align-self: flex-end;\n",
       "  width: 50%;\n",
       "}\n",
       "\n",
       "#sk-container-id-1 div.sk-parallel-item:last-child::after {\n",
       "  align-self: flex-start;\n",
       "  width: 50%;\n",
       "}\n",
       "\n",
       "#sk-container-id-1 div.sk-parallel-item:only-child::after {\n",
       "  width: 0;\n",
       "}\n",
       "\n",
       "/* Serial-specific style estimator block */\n",
       "\n",
       "#sk-container-id-1 div.sk-serial {\n",
       "  display: flex;\n",
       "  flex-direction: column;\n",
       "  align-items: center;\n",
       "  background-color: var(--sklearn-color-background);\n",
       "  padding-right: 1em;\n",
       "  padding-left: 1em;\n",
       "}\n",
       "\n",
       "\n",
       "/* Toggleable style: style used for estimator/Pipeline/ColumnTransformer box that is\n",
       "clickable and can be expanded/collapsed.\n",
       "- Pipeline and ColumnTransformer use this feature and define the default style\n",
       "- Estimators will overwrite some part of the style using the `sk-estimator` class\n",
       "*/\n",
       "\n",
       "/* Pipeline and ColumnTransformer style (default) */\n",
       "\n",
       "#sk-container-id-1 div.sk-toggleable {\n",
       "  /* Default theme specific background. It is overwritten whether we have a\n",
       "  specific estimator or a Pipeline/ColumnTransformer */\n",
       "  background-color: var(--sklearn-color-background);\n",
       "}\n",
       "\n",
       "/* Toggleable label */\n",
       "#sk-container-id-1 label.sk-toggleable__label {\n",
       "  cursor: pointer;\n",
       "  display: block;\n",
       "  width: 100%;\n",
       "  margin-bottom: 0;\n",
       "  padding: 0.5em;\n",
       "  box-sizing: border-box;\n",
       "  text-align: center;\n",
       "}\n",
       "\n",
       "#sk-container-id-1 label.sk-toggleable__label-arrow:before {\n",
       "  /* Arrow on the left of the label */\n",
       "  content: \"▸\";\n",
       "  float: left;\n",
       "  margin-right: 0.25em;\n",
       "  color: var(--sklearn-color-icon);\n",
       "}\n",
       "\n",
       "#sk-container-id-1 label.sk-toggleable__label-arrow:hover:before {\n",
       "  color: var(--sklearn-color-text);\n",
       "}\n",
       "\n",
       "/* Toggleable content - dropdown */\n",
       "\n",
       "#sk-container-id-1 div.sk-toggleable__content {\n",
       "  max-height: 0;\n",
       "  max-width: 0;\n",
       "  overflow: hidden;\n",
       "  text-align: left;\n",
       "  /* unfitted */\n",
       "  background-color: var(--sklearn-color-unfitted-level-0);\n",
       "}\n",
       "\n",
       "#sk-container-id-1 div.sk-toggleable__content.fitted {\n",
       "  /* fitted */\n",
       "  background-color: var(--sklearn-color-fitted-level-0);\n",
       "}\n",
       "\n",
       "#sk-container-id-1 div.sk-toggleable__content pre {\n",
       "  margin: 0.2em;\n",
       "  border-radius: 0.25em;\n",
       "  color: var(--sklearn-color-text);\n",
       "  /* unfitted */\n",
       "  background-color: var(--sklearn-color-unfitted-level-0);\n",
       "}\n",
       "\n",
       "#sk-container-id-1 div.sk-toggleable__content.fitted pre {\n",
       "  /* unfitted */\n",
       "  background-color: var(--sklearn-color-fitted-level-0);\n",
       "}\n",
       "\n",
       "#sk-container-id-1 input.sk-toggleable__control:checked~div.sk-toggleable__content {\n",
       "  /* Expand drop-down */\n",
       "  max-height: 200px;\n",
       "  max-width: 100%;\n",
       "  overflow: auto;\n",
       "}\n",
       "\n",
       "#sk-container-id-1 input.sk-toggleable__control:checked~label.sk-toggleable__label-arrow:before {\n",
       "  content: \"▾\";\n",
       "}\n",
       "\n",
       "/* Pipeline/ColumnTransformer-specific style */\n",
       "\n",
       "#sk-container-id-1 div.sk-label input.sk-toggleable__control:checked~label.sk-toggleable__label {\n",
       "  color: var(--sklearn-color-text);\n",
       "  background-color: var(--sklearn-color-unfitted-level-2);\n",
       "}\n",
       "\n",
       "#sk-container-id-1 div.sk-label.fitted input.sk-toggleable__control:checked~label.sk-toggleable__label {\n",
       "  background-color: var(--sklearn-color-fitted-level-2);\n",
       "}\n",
       "\n",
       "/* Estimator-specific style */\n",
       "\n",
       "/* Colorize estimator box */\n",
       "#sk-container-id-1 div.sk-estimator input.sk-toggleable__control:checked~label.sk-toggleable__label {\n",
       "  /* unfitted */\n",
       "  background-color: var(--sklearn-color-unfitted-level-2);\n",
       "}\n",
       "\n",
       "#sk-container-id-1 div.sk-estimator.fitted input.sk-toggleable__control:checked~label.sk-toggleable__label {\n",
       "  /* fitted */\n",
       "  background-color: var(--sklearn-color-fitted-level-2);\n",
       "}\n",
       "\n",
       "#sk-container-id-1 div.sk-label label.sk-toggleable__label,\n",
       "#sk-container-id-1 div.sk-label label {\n",
       "  /* The background is the default theme color */\n",
       "  color: var(--sklearn-color-text-on-default-background);\n",
       "}\n",
       "\n",
       "/* On hover, darken the color of the background */\n",
       "#sk-container-id-1 div.sk-label:hover label.sk-toggleable__label {\n",
       "  color: var(--sklearn-color-text);\n",
       "  background-color: var(--sklearn-color-unfitted-level-2);\n",
       "}\n",
       "\n",
       "/* Label box, darken color on hover, fitted */\n",
       "#sk-container-id-1 div.sk-label.fitted:hover label.sk-toggleable__label.fitted {\n",
       "  color: var(--sklearn-color-text);\n",
       "  background-color: var(--sklearn-color-fitted-level-2);\n",
       "}\n",
       "\n",
       "/* Estimator label */\n",
       "\n",
       "#sk-container-id-1 div.sk-label label {\n",
       "  font-family: monospace;\n",
       "  font-weight: bold;\n",
       "  display: inline-block;\n",
       "  line-height: 1.2em;\n",
       "}\n",
       "\n",
       "#sk-container-id-1 div.sk-label-container {\n",
       "  text-align: center;\n",
       "}\n",
       "\n",
       "/* Estimator-specific */\n",
       "#sk-container-id-1 div.sk-estimator {\n",
       "  font-family: monospace;\n",
       "  border: 1px dotted var(--sklearn-color-border-box);\n",
       "  border-radius: 0.25em;\n",
       "  box-sizing: border-box;\n",
       "  margin-bottom: 0.5em;\n",
       "  /* unfitted */\n",
       "  background-color: var(--sklearn-color-unfitted-level-0);\n",
       "}\n",
       "\n",
       "#sk-container-id-1 div.sk-estimator.fitted {\n",
       "  /* fitted */\n",
       "  background-color: var(--sklearn-color-fitted-level-0);\n",
       "}\n",
       "\n",
       "/* on hover */\n",
       "#sk-container-id-1 div.sk-estimator:hover {\n",
       "  /* unfitted */\n",
       "  background-color: var(--sklearn-color-unfitted-level-2);\n",
       "}\n",
       "\n",
       "#sk-container-id-1 div.sk-estimator.fitted:hover {\n",
       "  /* fitted */\n",
       "  background-color: var(--sklearn-color-fitted-level-2);\n",
       "}\n",
       "\n",
       "/* Specification for estimator info (e.g. \"i\" and \"?\") */\n",
       "\n",
       "/* Common style for \"i\" and \"?\" */\n",
       "\n",
       ".sk-estimator-doc-link,\n",
       "a:link.sk-estimator-doc-link,\n",
       "a:visited.sk-estimator-doc-link {\n",
       "  float: right;\n",
       "  font-size: smaller;\n",
       "  line-height: 1em;\n",
       "  font-family: monospace;\n",
       "  background-color: var(--sklearn-color-background);\n",
       "  border-radius: 1em;\n",
       "  height: 1em;\n",
       "  width: 1em;\n",
       "  text-decoration: none !important;\n",
       "  margin-left: 1ex;\n",
       "  /* unfitted */\n",
       "  border: var(--sklearn-color-unfitted-level-1) 1pt solid;\n",
       "  color: var(--sklearn-color-unfitted-level-1);\n",
       "}\n",
       "\n",
       ".sk-estimator-doc-link.fitted,\n",
       "a:link.sk-estimator-doc-link.fitted,\n",
       "a:visited.sk-estimator-doc-link.fitted {\n",
       "  /* fitted */\n",
       "  border: var(--sklearn-color-fitted-level-1) 1pt solid;\n",
       "  color: var(--sklearn-color-fitted-level-1);\n",
       "}\n",
       "\n",
       "/* On hover */\n",
       "div.sk-estimator:hover .sk-estimator-doc-link:hover,\n",
       ".sk-estimator-doc-link:hover,\n",
       "div.sk-label-container:hover .sk-estimator-doc-link:hover,\n",
       ".sk-estimator-doc-link:hover {\n",
       "  /* unfitted */\n",
       "  background-color: var(--sklearn-color-unfitted-level-3);\n",
       "  color: var(--sklearn-color-background);\n",
       "  text-decoration: none;\n",
       "}\n",
       "\n",
       "div.sk-estimator.fitted:hover .sk-estimator-doc-link.fitted:hover,\n",
       ".sk-estimator-doc-link.fitted:hover,\n",
       "div.sk-label-container:hover .sk-estimator-doc-link.fitted:hover,\n",
       ".sk-estimator-doc-link.fitted:hover {\n",
       "  /* fitted */\n",
       "  background-color: var(--sklearn-color-fitted-level-3);\n",
       "  color: var(--sklearn-color-background);\n",
       "  text-decoration: none;\n",
       "}\n",
       "\n",
       "/* Span, style for the box shown on hovering the info icon */\n",
       ".sk-estimator-doc-link span {\n",
       "  display: none;\n",
       "  z-index: 9999;\n",
       "  position: relative;\n",
       "  font-weight: normal;\n",
       "  right: .2ex;\n",
       "  padding: .5ex;\n",
       "  margin: .5ex;\n",
       "  width: min-content;\n",
       "  min-width: 20ex;\n",
       "  max-width: 50ex;\n",
       "  color: var(--sklearn-color-text);\n",
       "  box-shadow: 2pt 2pt 4pt #999;\n",
       "  /* unfitted */\n",
       "  background: var(--sklearn-color-unfitted-level-0);\n",
       "  border: .5pt solid var(--sklearn-color-unfitted-level-3);\n",
       "}\n",
       "\n",
       ".sk-estimator-doc-link.fitted span {\n",
       "  /* fitted */\n",
       "  background: var(--sklearn-color-fitted-level-0);\n",
       "  border: var(--sklearn-color-fitted-level-3);\n",
       "}\n",
       "\n",
       ".sk-estimator-doc-link:hover span {\n",
       "  display: block;\n",
       "}\n",
       "\n",
       "/* \"?\"-specific style due to the `<a>` HTML tag */\n",
       "\n",
       "#sk-container-id-1 a.estimator_doc_link {\n",
       "  float: right;\n",
       "  font-size: 1rem;\n",
       "  line-height: 1em;\n",
       "  font-family: monospace;\n",
       "  background-color: var(--sklearn-color-background);\n",
       "  border-radius: 1rem;\n",
       "  height: 1rem;\n",
       "  width: 1rem;\n",
       "  text-decoration: none;\n",
       "  /* unfitted */\n",
       "  color: var(--sklearn-color-unfitted-level-1);\n",
       "  border: var(--sklearn-color-unfitted-level-1) 1pt solid;\n",
       "}\n",
       "\n",
       "#sk-container-id-1 a.estimator_doc_link.fitted {\n",
       "  /* fitted */\n",
       "  border: var(--sklearn-color-fitted-level-1) 1pt solid;\n",
       "  color: var(--sklearn-color-fitted-level-1);\n",
       "}\n",
       "\n",
       "/* On hover */\n",
       "#sk-container-id-1 a.estimator_doc_link:hover {\n",
       "  /* unfitted */\n",
       "  background-color: var(--sklearn-color-unfitted-level-3);\n",
       "  color: var(--sklearn-color-background);\n",
       "  text-decoration: none;\n",
       "}\n",
       "\n",
       "#sk-container-id-1 a.estimator_doc_link.fitted:hover {\n",
       "  /* fitted */\n",
       "  background-color: var(--sklearn-color-fitted-level-3);\n",
       "}\n",
       "</style><div id=\"sk-container-id-1\" class=\"sk-top-container\"><div class=\"sk-text-repr-fallback\"><pre>KNeighborsClassifier()</pre><b>In a Jupyter environment, please rerun this cell to show the HTML representation or trust the notebook. <br />On GitHub, the HTML representation is unable to render, please try loading this page with nbviewer.org.</b></div><div class=\"sk-container\" hidden><div class=\"sk-item\"><div class=\"sk-estimator  sk-toggleable\"><input class=\"sk-toggleable__control sk-hidden--visually\" id=\"sk-estimator-id-1\" type=\"checkbox\" checked><label for=\"sk-estimator-id-1\" class=\"sk-toggleable__label  sk-toggleable__label-arrow \">&nbsp;&nbsp;KNeighborsClassifier<a class=\"sk-estimator-doc-link \" rel=\"noreferrer\" target=\"_blank\" href=\"https://scikit-learn.org/1.4/modules/generated/sklearn.neighbors.KNeighborsClassifier.html\">?<span>Documentation for KNeighborsClassifier</span></a><span class=\"sk-estimator-doc-link \">i<span>Not fitted</span></span></label><div class=\"sk-toggleable__content \"><pre>KNeighborsClassifier()</pre></div> </div></div></div></div>"
      ],
      "text/plain": [
       "KNeighborsClassifier()"
      ]
     },
     "execution_count": 90,
     "metadata": {},
     "output_type": "execute_result"
    }
   ],
   "source": [
    "knn_model"
   ]
  },
  {
   "cell_type": "code",
   "execution_count": 91,
   "id": "537afb8e-423d-4eef-998d-5a77fd8f9f6d",
   "metadata": {},
   "outputs": [
    {
     "data": {
      "text/plain": [
       "{'algorithm': 'auto',\n",
       " 'leaf_size': 30,\n",
       " 'metric': 'minkowski',\n",
       " 'metric_params': None,\n",
       " 'n_jobs': None,\n",
       " 'n_neighbors': 5,\n",
       " 'p': 2,\n",
       " 'weights': 'uniform'}"
      ]
     },
     "execution_count": 91,
     "metadata": {},
     "output_type": "execute_result"
    }
   ],
   "source": [
    "knn_model.get_params()"
   ]
  },
  {
   "cell_type": "code",
   "execution_count": 95,
   "id": "bfebc16e-6ced-4507-858a-638c8e497e0c",
   "metadata": {},
   "outputs": [],
   "source": [
    "knn_params = {\"n_neighbors\": range(2, 500)}"
   ]
  },
  {
   "cell_type": "code",
   "execution_count": 96,
   "id": "42d01def-37f7-4103-81f1-008a3e926db0",
   "metadata": {},
   "outputs": [
    {
     "name": "stdout",
     "output_type": "stream",
     "text": [
      "Fitting 5 folds for each of 498 candidates, totalling 2490 fits\n"
     ]
    }
   ],
   "source": [
    "knn_gs_best = GridSearchCV(knn_model,\n",
    "                           knn_params,\n",
    "                           cv=5,\n",
    "                           n_jobs=-1,\n",
    "                           verbose=1).fit(X, y)"
   ]
  },
  {
   "cell_type": "code",
   "execution_count": 97,
   "id": "e7b9ca5f-7028-4dce-b5b5-0e76fbd5aa44",
   "metadata": {},
   "outputs": [
    {
     "data": {
      "text/plain": [
       "{'n_neighbors': 9}"
      ]
     },
     "execution_count": 97,
     "metadata": {},
     "output_type": "execute_result"
    }
   ],
   "source": [
    "knn_gs_best.best_params_"
   ]
  },
  {
   "cell_type": "code",
   "execution_count": 98,
   "id": "5464c2a8-e81e-4bbc-9086-cd3b210f0451",
   "metadata": {},
   "outputs": [],
   "source": [
    "knn_final = knn_model.set_params(**knn_gs_best.best_params_).fit(X, y)"
   ]
  },
  {
   "cell_type": "code",
   "execution_count": 99,
   "id": "61c7a198-f540-4f42-84d7-1e071d541383",
   "metadata": {},
   "outputs": [],
   "source": [
    "cv_results = cross_validate(knn_final,\n",
    "                            X,\n",
    "                            y,\n",
    "                            cv=5,\n",
    "                            scoring=[\"accuracy\", \"f1\", \"roc_auc\"])"
   ]
  },
  {
   "cell_type": "code",
   "execution_count": 100,
   "id": "b0825082-29c5-4352-b81f-99b12663e91f",
   "metadata": {},
   "outputs": [
    {
     "data": {
      "text/plain": [
       "{'fit_time': array([0.04016948, 0.00457597, 0.00400376, 0.00300765, 0.0030427 ]),\n",
       " 'score_time': array([0.1428225 , 0.07754135, 0.07103777, 0.06983566, 0.06904888]),\n",
       " 'test_accuracy': array([0.892, 0.893, 0.903, 0.895, 0.899]),\n",
       " 'test_f1': array([0.44329897, 0.44559585, 0.4921466 , 0.46153846, 0.49751244]),\n",
       " 'test_roc_auc': array([0.75060478, 0.77920888, 0.8140878 , 0.80136413, 0.80961292])}"
      ]
     },
     "execution_count": 100,
     "metadata": {},
     "output_type": "execute_result"
    }
   ],
   "source": [
    "cv_results"
   ]
  },
  {
   "cell_type": "code",
   "execution_count": 101,
   "id": "deb13ecf-4710-4a13-abb2-d133ed5e34b8",
   "metadata": {},
   "outputs": [
    {
     "data": {
      "text/plain": [
       "0.8964000000000001"
      ]
     },
     "execution_count": 101,
     "metadata": {},
     "output_type": "execute_result"
    }
   ],
   "source": [
    "cv_results[\"test_accuracy\"].mean()"
   ]
  },
  {
   "cell_type": "code",
   "execution_count": 102,
   "id": "3f77ebef-ee30-4b16-9d75-9193c26060a7",
   "metadata": {},
   "outputs": [
    {
     "data": {
      "text/plain": [
       "0.468018464040498"
      ]
     },
     "execution_count": 102,
     "metadata": {},
     "output_type": "execute_result"
    }
   ],
   "source": [
    "cv_results[\"test_f1\"].mean()"
   ]
  },
  {
   "cell_type": "code",
   "execution_count": 103,
   "id": "4ad0f617-2cf1-4728-9bea-502bee4800d6",
   "metadata": {},
   "outputs": [
    {
     "data": {
      "text/plain": [
       "0.7909757006817236"
      ]
     },
     "execution_count": 103,
     "metadata": {},
     "output_type": "execute_result"
    }
   ],
   "source": [
    "cv_results[\"test_roc_auc\"].mean()"
   ]
  },
  {
   "cell_type": "code",
   "execution_count": 104,
   "id": "b2839ba6-408f-4d59-9aab-09ebc5a71d05",
   "metadata": {},
   "outputs": [],
   "source": [
    "random_user = X.sample(1)"
   ]
  },
  {
   "cell_type": "code",
   "execution_count": 105,
   "id": "a52daec0-daf9-4317-af1a-9f05468a767d",
   "metadata": {},
   "outputs": [
    {
     "data": {
      "text/plain": [
       "array([0])"
      ]
     },
     "execution_count": 105,
     "metadata": {},
     "output_type": "execute_result"
    }
   ],
   "source": [
    "knn_final.predict(random_user)"
   ]
  },
  {
   "cell_type": "markdown",
   "id": "11cdb41e-90e7-4244-a8dd-4397f09d8d7c",
   "metadata": {},
   "source": [
    "## cart model"
   ]
  },
  {
   "cell_type": "code",
   "execution_count": 148,
   "id": "916b688f-77ab-4541-9b3a-453ef939667b",
   "metadata": {},
   "outputs": [],
   "source": [
    "cart_model = DecisionTreeClassifier(random_state=1).fit(X, y)"
   ]
  },
  {
   "cell_type": "code",
   "execution_count": 149,
   "id": "fc448d4a-49ce-45d3-9f6f-67e6db8a19e8",
   "metadata": {},
   "outputs": [],
   "source": [
    "y_pred = cart_model.predict(X)"
   ]
  },
  {
   "cell_type": "code",
   "execution_count": 150,
   "id": "95bcccb8-dd34-4e02-bcb6-26c72516174e",
   "metadata": {},
   "outputs": [],
   "source": [
    "y_prob = cart_model.predict_proba(X)[:, 1]"
   ]
  },
  {
   "cell_type": "code",
   "execution_count": 151,
   "id": "a609c8a4-daaa-48c1-a78e-c52b6815266a",
   "metadata": {},
   "outputs": [
    {
     "name": "stdout",
     "output_type": "stream",
     "text": [
      "              precision    recall  f1-score   support\n",
      "\n",
      "           0       1.00      1.00      1.00      4293\n",
      "           1       1.00      1.00      1.00       707\n",
      "\n",
      "    accuracy                           1.00      5000\n",
      "   macro avg       1.00      1.00      1.00      5000\n",
      "weighted avg       1.00      1.00      1.00      5000\n",
      "\n"
     ]
    }
   ],
   "source": [
    "print(classification_report(y, y_pred))"
   ]
  },
  {
   "cell_type": "code",
   "execution_count": 152,
   "id": "49264df1-34ee-43ad-9772-e18d4f509847",
   "metadata": {},
   "outputs": [
    {
     "data": {
      "text/plain": [
       "1.0"
      ]
     },
     "execution_count": 152,
     "metadata": {},
     "output_type": "execute_result"
    }
   ],
   "source": [
    "roc_auc_score(y, y_prob)"
   ]
  },
  {
   "cell_type": "markdown",
   "id": "c39da0e9-e1d3-4d2b-a17d-f98ef1740c37",
   "metadata": {},
   "source": [
    "# holdout yöntemi"
   ]
  },
  {
   "cell_type": "code",
   "execution_count": 153,
   "id": "71797aed-187f-4836-b900-8a18b6c8e672",
   "metadata": {},
   "outputs": [],
   "source": [
    "X_train, X_test, y_train, y_test = train_test_split(X, y, test_size=0.30, random_state=17)"
   ]
  },
  {
   "cell_type": "code",
   "execution_count": 154,
   "id": "2325ae3e-c4bf-41c6-b0db-e11da39a4fc9",
   "metadata": {},
   "outputs": [],
   "source": [
    "cart_model = DecisionTreeClassifier(random_state=17).fit(X_train, y_train)"
   ]
  },
  {
   "cell_type": "code",
   "execution_count": 155,
   "id": "942c6de1-4510-4fbf-b772-b3c7f2bc7fee",
   "metadata": {},
   "outputs": [],
   "source": [
    "#train hatası\n",
    "y_pred = cart_model.predict(X_train)"
   ]
  },
  {
   "cell_type": "code",
   "execution_count": 156,
   "id": "956d906f-e704-48d6-bada-43bd15d770eb",
   "metadata": {},
   "outputs": [],
   "source": [
    "y_prob = cart_model.predict_proba(X_train)[:, 1]"
   ]
  },
  {
   "cell_type": "code",
   "execution_count": 157,
   "id": "df524490-53fb-4703-bf7d-64460a2cbc89",
   "metadata": {},
   "outputs": [
    {
     "name": "stdout",
     "output_type": "stream",
     "text": [
      "              precision    recall  f1-score   support\n",
      "\n",
      "           0       1.00      1.00      1.00      3026\n",
      "           1       1.00      1.00      1.00       474\n",
      "\n",
      "    accuracy                           1.00      3500\n",
      "   macro avg       1.00      1.00      1.00      3500\n",
      "weighted avg       1.00      1.00      1.00      3500\n",
      "\n"
     ]
    }
   ],
   "source": [
    "print(classification_report(y_train, y_pred))"
   ]
  },
  {
   "cell_type": "code",
   "execution_count": 158,
   "id": "b3d4f8fa-5a4c-47a9-ae57-a6fbc8d47684",
   "metadata": {},
   "outputs": [
    {
     "data": {
      "text/plain": [
       "1.0"
      ]
     },
     "execution_count": 158,
     "metadata": {},
     "output_type": "execute_result"
    }
   ],
   "source": [
    "roc_auc_score(y_train, y_prob)"
   ]
  },
  {
   "cell_type": "code",
   "execution_count": 159,
   "id": "40023b86-286d-465d-b3ec-3ad002b87a63",
   "metadata": {},
   "outputs": [],
   "source": [
    "### Test hatası\n",
    "y_pred = cart_model.predict(X_test)"
   ]
  },
  {
   "cell_type": "code",
   "execution_count": 160,
   "id": "82a5ba1a-5b97-481a-9a9f-d1b244bc3511",
   "metadata": {},
   "outputs": [],
   "source": [
    "y_prob = cart_model.predict_proba(X_test)[:, 1]"
   ]
  },
  {
   "cell_type": "code",
   "execution_count": 161,
   "id": "ba7549ee-a49d-44e5-ba44-18466f708e37",
   "metadata": {},
   "outputs": [
    {
     "name": "stdout",
     "output_type": "stream",
     "text": [
      "              precision    recall  f1-score   support\n",
      "\n",
      "           0       0.92      0.91      0.91      1267\n",
      "           1       0.52      0.55      0.53       233\n",
      "\n",
      "    accuracy                           0.85      1500\n",
      "   macro avg       0.72      0.73      0.72      1500\n",
      "weighted avg       0.85      0.85      0.85      1500\n",
      "\n"
     ]
    }
   ],
   "source": [
    "print(classification_report(y_test, y_pred))"
   ]
  },
  {
   "cell_type": "code",
   "execution_count": 162,
   "id": "17e3558e-2d4d-43af-ac9a-1710d215dad7",
   "metadata": {},
   "outputs": [
    {
     "data": {
      "text/plain": [
       "0.7273221526298139"
      ]
     },
     "execution_count": 162,
     "metadata": {},
     "output_type": "execute_result"
    }
   ],
   "source": [
    "roc_auc_score(y_test, y_prob)"
   ]
  },
  {
   "cell_type": "markdown",
   "id": "425c77fa-b4b2-4d82-bb5b-c757449f4658",
   "metadata": {},
   "source": [
    "# cv ile başarı değerlendirme"
   ]
  },
  {
   "cell_type": "code",
   "execution_count": 163,
   "id": "98d79ac5-c992-48ee-805c-d475e8a73b9d",
   "metadata": {},
   "outputs": [],
   "source": [
    "cart_model = DecisionTreeClassifier(random_state=17).fit(X, y)"
   ]
  },
  {
   "cell_type": "code",
   "execution_count": 164,
   "id": "bc2a682c-0917-4afe-bc0a-a31dfc9a7fc9",
   "metadata": {},
   "outputs": [],
   "source": [
    "cv_results = cross_validate(cart_model,\n",
    "                            X,y,\n",
    "                            cv=5,\n",
    "                            scoring=[\"accuracy\", \"f1\", \"roc_auc\"])"
   ]
  },
  {
   "cell_type": "code",
   "execution_count": 165,
   "id": "7f99c7c7-8900-40f5-ab15-3db41a9adeae",
   "metadata": {},
   "outputs": [
    {
     "data": {
      "text/plain": [
       "0.8762000000000001"
      ]
     },
     "execution_count": 165,
     "metadata": {},
     "output_type": "execute_result"
    }
   ],
   "source": [
    "cv_results[\"test_accuracy\"].mean()"
   ]
  },
  {
   "cell_type": "code",
   "execution_count": 166,
   "id": "5cd3c809-6853-481c-9532-70e263252abb",
   "metadata": {},
   "outputs": [
    {
     "data": {
      "text/plain": [
       "0.5741705475850575"
      ]
     },
     "execution_count": 166,
     "metadata": {},
     "output_type": "execute_result"
    }
   ],
   "source": [
    "cv_results[\"test_f1\"].mean()"
   ]
  },
  {
   "cell_type": "code",
   "execution_count": 167,
   "id": "59c73a23-d579-4b56-b581-cb0615484910",
   "metadata": {},
   "outputs": [
    {
     "data": {
      "text/plain": [
       "0.7560095227747016"
      ]
     },
     "execution_count": 167,
     "metadata": {},
     "output_type": "execute_result"
    }
   ],
   "source": [
    "cv_results[\"test_roc_auc\"].mean()"
   ]
  },
  {
   "cell_type": "markdown",
   "id": "a3cc40d8-8b0b-4af7-acc5-859f45f69859",
   "metadata": {},
   "source": [
    "# Hiperparametre Optimizasyonu"
   ]
  },
  {
   "cell_type": "code",
   "execution_count": 168,
   "id": "b5fddeb0-a130-45a5-94b2-672d0d499746",
   "metadata": {},
   "outputs": [
    {
     "data": {
      "text/plain": [
       "{'ccp_alpha': 0.0,\n",
       " 'class_weight': None,\n",
       " 'criterion': 'gini',\n",
       " 'max_depth': None,\n",
       " 'max_features': None,\n",
       " 'max_leaf_nodes': None,\n",
       " 'min_impurity_decrease': 0.0,\n",
       " 'min_samples_leaf': 1,\n",
       " 'min_samples_split': 2,\n",
       " 'min_weight_fraction_leaf': 0.0,\n",
       " 'monotonic_cst': None,\n",
       " 'random_state': 17,\n",
       " 'splitter': 'best'}"
      ]
     },
     "execution_count": 168,
     "metadata": {},
     "output_type": "execute_result"
    }
   ],
   "source": [
    "cart_model.get_params()"
   ]
  },
  {
   "cell_type": "code",
   "execution_count": 169,
   "id": "6fef8b58-13b5-40ea-906d-458e24545200",
   "metadata": {},
   "outputs": [],
   "source": [
    "cart_params = {\"max_depth\": range(1, 11),\n",
    "               \"min_samples_split\": range(2, 20)}"
   ]
  },
  {
   "cell_type": "code",
   "execution_count": 170,
   "id": "14412d03-26d9-45f3-8019-c7e5bb5b2b53",
   "metadata": {},
   "outputs": [
    {
     "name": "stdout",
     "output_type": "stream",
     "text": [
      "Fitting 5 folds for each of 180 candidates, totalling 900 fits\n"
     ]
    }
   ],
   "source": [
    "cart_best_grid = GridSearchCV(cart_model,\n",
    "                              cart_params,\n",
    "                              n_jobs=-1,\n",
    "                              verbose=1).fit(X, y)"
   ]
  },
  {
   "cell_type": "code",
   "execution_count": 171,
   "id": "169cfc3b-21ba-4aa9-8ae0-4038817563fd",
   "metadata": {},
   "outputs": [
    {
     "data": {
      "text/plain": [
       "{'max_depth': 8, 'min_samples_split': 7}"
      ]
     },
     "execution_count": 171,
     "metadata": {},
     "output_type": "execute_result"
    }
   ],
   "source": [
    "cart_best_grid.best_params_"
   ]
  },
  {
   "cell_type": "code",
   "execution_count": 172,
   "id": "5d7b5988-daf4-4f14-95ac-b312a9e60fde",
   "metadata": {},
   "outputs": [
    {
     "data": {
      "text/plain": [
       "0.9246000000000001"
      ]
     },
     "execution_count": 172,
     "metadata": {},
     "output_type": "execute_result"
    }
   ],
   "source": [
    "cart_best_grid.best_score_"
   ]
  },
  {
   "cell_type": "code",
   "execution_count": 173,
   "id": "8c64102c-edb1-4d2f-aefd-9b6fb67e49a5",
   "metadata": {},
   "outputs": [],
   "source": [
    "random = X.sample(1, random_state=45)"
   ]
  },
  {
   "cell_type": "code",
   "execution_count": 174,
   "id": "fce3860e-79b3-4ebf-83ae-24a5eed1ee0f",
   "metadata": {},
   "outputs": [
    {
     "data": {
      "text/plain": [
       "array([0])"
      ]
     },
     "execution_count": 174,
     "metadata": {},
     "output_type": "execute_result"
    }
   ],
   "source": [
    "cart_best_grid.predict(random)"
   ]
  },
  {
   "cell_type": "markdown",
   "id": "aead2820-b0e1-4725-91b1-a4f94ff8246d",
   "metadata": {},
   "source": [
    "# final model"
   ]
  },
  {
   "cell_type": "code",
   "execution_count": 175,
   "id": "ef1b64e5-a062-48d4-b9dc-6ad3b501289c",
   "metadata": {},
   "outputs": [],
   "source": [
    "cart_final = DecisionTreeClassifier(**cart_best_grid.best_params_, random_state=17).fit(X, y)"
   ]
  },
  {
   "cell_type": "code",
   "execution_count": 176,
   "id": "6a4b84ed-6b57-41a1-a047-188ac2c6191a",
   "metadata": {},
   "outputs": [
    {
     "data": {
      "text/plain": [
       "{'ccp_alpha': 0.0,\n",
       " 'class_weight': None,\n",
       " 'criterion': 'gini',\n",
       " 'max_depth': 8,\n",
       " 'max_features': None,\n",
       " 'max_leaf_nodes': None,\n",
       " 'min_impurity_decrease': 0.0,\n",
       " 'min_samples_leaf': 1,\n",
       " 'min_samples_split': 7,\n",
       " 'min_weight_fraction_leaf': 0.0,\n",
       " 'monotonic_cst': None,\n",
       " 'random_state': 17,\n",
       " 'splitter': 'best'}"
      ]
     },
     "execution_count": 176,
     "metadata": {},
     "output_type": "execute_result"
    }
   ],
   "source": [
    "cart_final.get_params()"
   ]
  },
  {
   "cell_type": "code",
   "execution_count": 177,
   "id": "210c3dd8-22ea-458a-8ba6-cca5529b1104",
   "metadata": {},
   "outputs": [],
   "source": [
    "cart_final = cart_model.set_params(**cart_best_grid.best_params_).fit(X, y)"
   ]
  },
  {
   "cell_type": "code",
   "execution_count": 178,
   "id": "0b4b208d-f28f-4c63-b294-6f5d624384a8",
   "metadata": {},
   "outputs": [
    {
     "data": {
      "text/plain": [
       "{'ccp_alpha': 0.0,\n",
       " 'class_weight': None,\n",
       " 'criterion': 'gini',\n",
       " 'max_depth': 8,\n",
       " 'max_features': None,\n",
       " 'max_leaf_nodes': None,\n",
       " 'min_impurity_decrease': 0.0,\n",
       " 'min_samples_leaf': 1,\n",
       " 'min_samples_split': 7,\n",
       " 'min_weight_fraction_leaf': 0.0,\n",
       " 'monotonic_cst': None,\n",
       " 'random_state': 17,\n",
       " 'splitter': 'best'}"
      ]
     },
     "execution_count": 178,
     "metadata": {},
     "output_type": "execute_result"
    }
   ],
   "source": [
    "cart_final.get_params()"
   ]
  },
  {
   "cell_type": "code",
   "execution_count": 179,
   "id": "7bb3e671-c1d6-49e0-8dc0-c68db2c077b8",
   "metadata": {},
   "outputs": [],
   "source": [
    "cv_results = cross_validate(cart_model,\n",
    "                            X,y,\n",
    "                            cv=5,\n",
    "                            scoring=[\"accuracy\", \"f1\", \"roc_auc\"])"
   ]
  },
  {
   "cell_type": "code",
   "execution_count": 180,
   "id": "8edf345e-e5b3-41c1-806b-d1590c8444a5",
   "metadata": {},
   "outputs": [
    {
     "data": {
      "text/plain": [
       "0.9246000000000001"
      ]
     },
     "execution_count": 180,
     "metadata": {},
     "output_type": "execute_result"
    }
   ],
   "source": [
    "cv_results[\"test_accuracy\"].mean()"
   ]
  },
  {
   "cell_type": "code",
   "execution_count": 181,
   "id": "1e2362f9-4444-4423-9291-8e58ede8df07",
   "metadata": {},
   "outputs": [
    {
     "data": {
      "text/plain": [
       "0.6705137567746264"
      ]
     },
     "execution_count": 181,
     "metadata": {},
     "output_type": "execute_result"
    }
   ],
   "source": [
    "cv_results[\"test_f1\"].mean()"
   ]
  },
  {
   "cell_type": "code",
   "execution_count": 182,
   "id": "58f68aba-79ef-4019-a7a4-17fe285d6bd9",
   "metadata": {},
   "outputs": [
    {
     "data": {
      "text/plain": [
       "0.7863771520084064"
      ]
     },
     "execution_count": 182,
     "metadata": {},
     "output_type": "execute_result"
    }
   ],
   "source": [
    "cv_results[\"test_roc_auc\"].mean()"
   ]
  },
  {
   "cell_type": "code",
   "execution_count": null,
   "id": "48dcb4f4-da5b-403f-9fe2-0e9bde71f848",
   "metadata": {},
   "outputs": [],
   "source": []
  }
 ],
 "metadata": {
  "kernelspec": {
   "display_name": "Python 3 (ipykernel)",
   "language": "python",
   "name": "python3"
  },
  "language_info": {
   "codemirror_mode": {
    "name": "ipython",
    "version": 3
   },
   "file_extension": ".py",
   "mimetype": "text/x-python",
   "name": "python",
   "nbconvert_exporter": "python",
   "pygments_lexer": "ipython3",
   "version": "3.11.5"
  }
 },
 "nbformat": 4,
 "nbformat_minor": 5
}
